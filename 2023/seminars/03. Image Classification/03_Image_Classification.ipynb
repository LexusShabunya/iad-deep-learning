{
 "cells": [
  {
   "cell_type": "markdown",
   "metadata": {
    "id": "0j2KOtPc51bn"
   },
   "source": [
    "# Семинар 3: Классификация изображений\n",
    "\n",
    "## Вступление\n",
    "Сегодня мы перейдём чуть более сложным данным и архитектурам для классификации изображений.\n",
    "\n",
    "### План семинара\n",
    "1. Обучаем свёрточную сеть для задачи классификации изображений и смотрим на полученные фильтры свёрточных слоёв\n",
    "2. Разбираемся с тем, что такое аугментации и зачем они нужны\n",
    "3. Узнаём про способы регуляризации и нормализации при обучении нейронных сетей\n"
   ]
  },
  {
   "cell_type": "code",
   "execution_count": null,
   "metadata": {
    "id": "m-4RbpkN51br"
   },
   "outputs": [],
   "source": [
    "import warnings\n",
    "\n",
    "import matplotlib.pyplot as plt\n",
    "import numpy as np\n",
    "import torch\n",
    "import torchvision\n",
    "from IPython.display import clear_output\n",
    "from torch import nn, optim\n",
    "from torchvision import transforms\n",
    "from tqdm.auto import tqdm\n",
    "\n",
    "warnings.filterwarnings(\"ignore\")\n",
    "%matplotlib inline"
   ]
  },
  {
   "cell_type": "code",
   "execution_count": null,
   "metadata": {
    "id": "tQtu-yonm_gA"
   },
   "outputs": [],
   "source": [
    "device = \"cuda\" if torch.cuda.is_available() else \"cpu\"\n",
    "device"
   ]
  },
  {
   "cell_type": "markdown",
   "metadata": {
    "id": "LwcjRM6J51bx"
   },
   "source": [
    "## 1. Обучаем свёрточную сеть для задачи классификации изображений\n",
    "\n",
    "Сегодня будем работать с датасетом [CIFAR-10](https://www.cs.toronto.edu/~kriz/cifar.html), в котором содержатся изображения 10 классов размером 32 на 32 пикселя с тремя каналами. В тренировочной выборке 50000 изображений, а в тестовой 10000. Загрузим его аналогично тому, как мы загружали MNIST на предыдущих занятиях."
   ]
  },
  {
   "cell_type": "code",
   "execution_count": null,
   "metadata": {
    "id": "Biku7-RK51by"
   },
   "outputs": [],
   "source": [
    "transform = transforms.Compose(\n",
    "    [\n",
    "        transforms.ToTensor(),\n",
    "        transforms.Normalize((0.4914, 0.4822, 0.4465), (0.247, 0.243, 0.261)),\n",
    "    ]\n",
    ")\n",
    "\n",
    "cifar_train = torchvision.datasets.CIFAR10(\n",
    "    root=\"./cifar\", train=True, download=True, transform=transform\n",
    ")\n",
    "cifar_val = torchvision.datasets.CIFAR10(\n",
    "    root=\"./cifar\", train=False, download=True, transform=transform\n",
    ")\n",
    "\n",
    "train_dataloader = torch.utils.data.DataLoader(\n",
    "    cifar_train, batch_size=32, shuffle=True, num_workers=4\n",
    ")\n",
    "val_dataloader = torch.utils.data.DataLoader(\n",
    "    cifar_val, batch_size=32, shuffle=False, num_workers=4\n",
    ")"
   ]
  },
  {
   "cell_type": "code",
   "execution_count": null,
   "metadata": {
    "id": "viTnmYLz9s7-"
   },
   "outputs": [],
   "source": [
    "def matplotlib_imshow(img, one_channel=False):\n",
    "    if one_channel:\n",
    "        img = img.mean(dim=0)\n",
    "    img = img / 2 + 0.5\n",
    "    npimg = img.numpy()\n",
    "    if one_channel:\n",
    "        plt.imshow(npimg, cmap=\"Greys\")\n",
    "    else:\n",
    "        plt.imshow(np.transpose(npimg, (1, 2, 0)))"
   ]
  },
  {
   "cell_type": "code",
   "execution_count": null,
   "metadata": {
    "id": "7aFqAJsz9N-J"
   },
   "outputs": [],
   "source": [
    "images, labels = next(iter(train_dataloader))\n",
    "\n",
    "plt.figure(figsize=(12, 12))\n",
    "# create grid of images\n",
    "img_grid = torchvision.utils.make_grid(images)\n",
    "# show images\n",
    "matplotlib_imshow(img_grid, one_channel=False)"
   ]
  },
  {
   "cell_type": "code",
   "execution_count": null,
   "metadata": {
    "id": "Ol2zQW_G51b8"
   },
   "outputs": [],
   "source": [
    "def plot_history(train_history, val_history, title=\"loss\"):\n",
    "    plt.figure()\n",
    "    plt.title(title)\n",
    "    plt.plot(train_history, label=\"train\", zorder=1)\n",
    "\n",
    "    points = np.array(val_history)\n",
    "    steps = list(\n",
    "        range(0, len(train_history) + 1, int(len(train_history) / len(val_history)))\n",
    "    )[1:]\n",
    "\n",
    "    plt.scatter(\n",
    "        steps, val_history, marker=\"+\", s=180, c=\"orange\", label=\"val\", zorder=2\n",
    "    )\n",
    "    plt.xlabel(\"train steps\")\n",
    "\n",
    "    plt.legend(loc=\"best\")\n",
    "    plt.grid()\n",
    "\n",
    "    plt.show()"
   ]
  },
  {
   "cell_type": "markdown",
   "metadata": {
    "id": "dI-aCo1O51b_"
   },
   "source": [
    "### Задание 1. VGG\n",
    "В качестве бейзлайна постройте следующую архитектуру из 1 VGG блока:\n",
    "\n",
    "1) VGG блок с 16 каналами:\n",
    "* свёрточный слой с 16 выходными каналами и ядром 3x3, паддингом и нелинейностью ReLU\n",
    "* свёрточный слой с 16 выходными каналами и ядром 3x3, паддингом и нелинейностью ReLU\n",
    "* Max pooling c ядром 2x2 и шагом 2\n",
    "\n",
    "2) Полносвязный слой с 128 выходами и нелинейностью ReLU\n",
    "\n",
    "3) Полносвязный слой с 10 выходами"
   ]
  },
  {
   "cell_type": "code",
   "execution_count": null,
   "metadata": {
    "id": "t7pX8Stx51cA"
   },
   "outputs": [],
   "source": [
    "class ModelBaseline(nn.Module):\n",
    "    def __init__(self):\n",
    "        ### YOUR CODE HERE\n",
    "\n",
    "\n",
    "    def forward(self, x):\n",
    "        ### YOUR CODE HERE"
   ]
  },
  {
   "cell_type": "code",
   "execution_count": null,
   "metadata": {
    "id": "eSWUR-0M7FqG"
   },
   "outputs": [],
   "source": [
    "def train(model, criterion, optimizer, train_dataloader, val_dataloader, n_epochs=5):\n",
    "    train_loss_log, train_acc_log, val_loss_log, val_acc_log = [], [], [], []\n",
    "\n",
    "    for epoch in range(n_epochs):\n",
    "        # тренировка\n",
    "        train_epoch_loss, train_epoch_true_hits = torch.empty(0), torch.empty(0)\n",
    "        model.train()\n",
    "        for imgs, labels in tqdm(\n",
    "            train_dataloader, desc=f\"Training, epoch {epoch}\", leave=False\n",
    "        ):\n",
    "            imgs, labels = imgs.to(device), labels.to(device)\n",
    "\n",
    "            y_pred = model(imgs)\n",
    "            loss = criterion(y_pred, labels)\n",
    "            loss.backward()\n",
    "            optimizer.step()\n",
    "            optimizer.zero_grad()\n",
    "\n",
    "            # log loss for the current epoch and the whole training history\n",
    "            train_epoch_loss = torch.cat(\n",
    "                (train_epoch_loss, loss.cpu().unsqueeze(0) / labels.cpu().size(0))\n",
    "            )\n",
    "            train_loss_log.append(loss.cpu().data / labels.cpu().size(0))\n",
    "\n",
    "            # log accuracy for the current epoch and the whole training history\n",
    "            pred_classes = torch.argmax(y_pred.cpu(), dim=-1)\n",
    "            train_epoch_true_hits = torch.cat(\n",
    "                (\n",
    "                    train_epoch_true_hits,\n",
    "                    (pred_classes == labels.cpu()).sum().unsqueeze(0),\n",
    "                )\n",
    "            )\n",
    "            train_acc_log.append(\n",
    "                (pred_classes == labels.cpu()).sum() / labels.cpu().shape[0]\n",
    "            )\n",
    "\n",
    "        # валидация\n",
    "        val_epoch_loss, val_epoch_true_hits = torch.empty(0), torch.empty(0)\n",
    "        model.eval()\n",
    "        with torch.no_grad():\n",
    "            for imgs, labels in tqdm(\n",
    "                val_dataloader, desc=f\"Validating, epoch {epoch}\", leave=False\n",
    "            ):\n",
    "                imgs, labels = imgs.to(device), labels.to(device)\n",
    "\n",
    "                y_pred = model(imgs)\n",
    "                loss = criterion(y_pred, labels)\n",
    "                val_epoch_loss = torch.cat(\n",
    "                    (val_epoch_loss, loss.cpu().unsqueeze(0) / labels.cpu().size(0))\n",
    "                )\n",
    "\n",
    "                pred_classes = torch.argmax(y_pred.cpu(), dim=-1)\n",
    "                val_epoch_true_hits = torch.cat(\n",
    "                    (\n",
    "                        val_epoch_true_hits,\n",
    "                        (pred_classes == labels.cpu()).sum().unsqueeze(0),\n",
    "                    )\n",
    "                )\n",
    "\n",
    "        val_loss_log.append(val_epoch_loss.mean())\n",
    "        val_acc_log.append(\n",
    "            val_epoch_true_hits.sum()\n",
    "            / val_epoch_true_hits.size(0)\n",
    "            / val_dataloader.batch_size\n",
    "        )\n",
    "        clear_output()\n",
    "        plot_history(train_loss_log, val_loss_log, \"loss\")\n",
    "        plot_history(train_acc_log, val_acc_log, \"accuracy\")\n",
    "\n",
    "        print(\"Train loss:\", train_epoch_loss.mean().item())\n",
    "        print(\n",
    "            \"Train acc:\",\n",
    "            (\n",
    "                train_epoch_true_hits.sum()\n",
    "                / train_epoch_true_hits.size(0)\n",
    "                / train_dataloader.batch_size\n",
    "            ).item(),\n",
    "        )\n",
    "        print(\"Val loss:\", val_epoch_loss.mean().item())\n",
    "        print(\n",
    "            \"Val acc:\",\n",
    "            (\n",
    "                val_epoch_true_hits.sum()\n",
    "                / val_epoch_true_hits.size(0)\n",
    "                / val_dataloader.batch_size\n",
    "            ).item(),\n",
    "        )"
   ]
  },
  {
   "cell_type": "code",
   "execution_count": null,
   "metadata": {
    "id": "cW2PD8Og7FqH"
   },
   "outputs": [],
   "source": [
    "model_baseline = ModelBaseline().to(device)\n",
    "criterion = nn.CrossEntropyLoss()\n",
    "optimizer = optim.SGD(model_baseline.parameters(), lr=0.001, momentum=0.9)\n",
    "\n",
    "train(model_baseline, criterion, optimizer, train_dataloader, val_dataloader)"
   ]
  },
  {
   "cell_type": "markdown",
   "metadata": {
    "id": "_l6CrxVIGy6W"
   },
   "source": [
    "### Визуализируем параметры сети"
   ]
  },
  {
   "cell_type": "code",
   "execution_count": null,
   "metadata": {
    "id": "5-E_hfaPG_Zx"
   },
   "outputs": [],
   "source": [
    "# Запустите эти ячейки при работе из колаба\n",
    "# !wget https://raw.githubusercontent.com/hse-ds/iad-deep-learning/master/2022/seminars/sem03/filter_viz.py\n",
    "\n",
    "# import sys\n",
    "# from google.colab import drive\n",
    "\n",
    "# drive.mount(\"/content/gdrive\")\n",
    "# sys.path.append(\"/content/gdrive/My Drive\")"
   ]
  },
  {
   "cell_type": "code",
   "execution_count": null,
   "metadata": {
    "id": "uw1KykrVHEsb"
   },
   "outputs": [],
   "source": [
    "from filter_viz import plot_filters"
   ]
  },
  {
   "cell_type": "code",
   "execution_count": null,
   "metadata": {
    "id": "ZJ87-opcHTED"
   },
   "outputs": [],
   "source": [
    "model_baseline.cpu()"
   ]
  },
  {
   "cell_type": "code",
   "execution_count": null,
   "metadata": {
    "id": "hlnOmg22HVNF"
   },
   "outputs": [],
   "source": [
    "plot_filters(model_baseline.vgg[0], single_channel=False)"
   ]
  },
  {
   "cell_type": "code",
   "execution_count": null,
   "metadata": {
    "id": "Iee55zUqHX5Y"
   },
   "outputs": [],
   "source": [
    "plot_filters(model_baseline.vgg[0], single_channel=True)"
   ]
  },
  {
   "cell_type": "code",
   "execution_count": null,
   "metadata": {
    "id": "LpwL6SCeHajo"
   },
   "outputs": [],
   "source": [
    "plot_filters(model_baseline.vgg[2], single_channel=True)"
   ]
  },
  {
   "cell_type": "markdown",
   "metadata": {
    "id": "eZ_xN9423WYC"
   },
   "source": [
    "### Задание 2. Активации\n",
    "\n",
    "Поэкспериментируйте с функциями активации сети. Попробуйте заменить ReLU на LeakyReLU, ELU или SELU. Как замена влияет на качество и скорость сходимости?\n",
    "\n",
    "Почитать про разные функции активации можно [здесь](https://ml-explained.com/blog/activation-functions-explained) и в [документации PyTorch](https://pytorch.org/docs/stable/nn.html#non-linear-activations-weighted-sum-nonlinearity)."
   ]
  },
  {
   "cell_type": "code",
   "execution_count": null,
   "metadata": {
    "id": "_J-J9XZ-3WYD"
   },
   "outputs": [],
   "source": [
    "class ModelBaseline(nn.Module):\n",
    "    def __init__(self, activation = nn.ReLU):\n",
    "        ### YOUR CODE HERE\n",
    "\n",
    "\n",
    "    def forward(self, x):\n",
    "        ### YOUR CODE HERE\n",
    "\n",
    "\n",
    "model_baseline2 = ModelBaseline(activation=nn.LeakyReLU).to(device)\n",
    "criterion = nn.CrossEntropyLoss()\n",
    "optimizer = optim.SGD(model_baseline2.parameters(), lr=0.001, momentum=0.9)\n",
    "\n",
    "train(model_baseline2, criterion, optimizer, train_dataloader, val_dataloader)"
   ]
  },
  {
   "cell_type": "markdown",
   "metadata": {
    "id": "0vJXkov0E76b"
   },
   "source": [
    "C LeakyReLU работает немного лучше)"
   ]
  },
  {
   "cell_type": "markdown",
   "metadata": {
    "id": "bDuNuSehJbrc"
   },
   "source": [
    "## 2. Аугментации\n",
    "\n",
    "Аугментация данных - очень мощный процесс, который позволяет увеличить количество тренировочных данных. С помощью поворотов, отражения, добавления шума, сдвигов и других преобразований, картинка немного меняется, однако сохраняет свою прежнюю метку. С помощью функции Compose можно объединять несколько трансформаций изображения, а потом применять их при чтении датасета. Полный список аугментаций доступен [тут](https://pytorch.org/vision/stable/transforms.html). Изучите его и поэкспериментируйте с различными трансформациями изображения.\n",
    "\n",
    "Довольно мощным и эффективным инструментом для аугментаций на картинках является библиотека `albumentations`. В этом курсе мы не будем её рассматривать, но можете поэкспериментировать с ней сами."
   ]
  },
  {
   "cell_type": "code",
   "execution_count": null,
   "metadata": {
    "id": "faddF2TNJbrc"
   },
   "outputs": [],
   "source": [
    "import PIL\n",
    "\n",
    "transform = transforms.Compose(\n",
    "    [\n",
    "        transforms.ColorJitter(hue=0.05, saturation=0.05),\n",
    "        transforms.RandomHorizontalFlip(),\n",
    "        transforms.RandomRotation(20),\n",
    "        transforms.ToTensor(),\n",
    "        transforms.Normalize((0.4914, 0.4822, 0.4465), (0.247, 0.243, 0.261)),\n",
    "    ]\n",
    ")\n",
    "\n",
    "base_transform = torchvision.transforms.Compose(\n",
    "    [\n",
    "        torchvision.transforms.ToTensor(),\n",
    "        transforms.Normalize((0.4914, 0.4822, 0.4465), (0.247, 0.243, 0.261)),\n",
    "    ]\n",
    ")\n",
    "\n",
    "cifar_train = torchvision.datasets.CIFAR10(\n",
    "    root=\"./cifar\", train=True, download=True, transform=transform\n",
    ")\n",
    "cifar_val = torchvision.datasets.CIFAR10(\n",
    "    root=\"./cifar\", train=False, download=True, transform=base_transform\n",
    ")\n",
    "\n",
    "train_dataloader = torch.utils.data.DataLoader(\n",
    "    cifar_train, batch_size=32, shuffle=True, num_workers=4\n",
    ")\n",
    "val_dataloader = torch.utils.data.DataLoader(\n",
    "    cifar_val, batch_size=32, shuffle=False, num_workers=4\n",
    ")"
   ]
  },
  {
   "cell_type": "code",
   "execution_count": null,
   "metadata": {
    "id": "Lts0GvVnJbrf"
   },
   "outputs": [],
   "source": [
    "images, labels = next(iter(train_dataloader))\n",
    "\n",
    "plt.figure(figsize=(12, 12))\n",
    "# create grid of images\n",
    "img_grid = torchvision.utils.make_grid(images)\n",
    "# show images\n",
    "matplotlib_imshow(img_grid, one_channel=False)"
   ]
  },
  {
   "cell_type": "code",
   "execution_count": null,
   "metadata": {
    "id": "TUwcA6ObJbrf"
   },
   "outputs": [],
   "source": [
    "model_baseline = ModelBaseline().to(device)\n",
    "criterion = nn.CrossEntropyLoss()\n",
    "optimizer = optim.SGD(model_baseline.parameters(), lr=0.001, momentum=0.9)\n",
    "\n",
    "train(model_baseline, criterion, optimizer, train_dataloader, val_dataloader)"
   ]
  },
  {
   "cell_type": "markdown",
   "metadata": {
    "id": "w2CsFkKtk8--"
   },
   "source": [
    "## 3. Регуляризации и нормализации в нейронных сетях\n",
    "\n",
    "### Dropout\n",
    "Если сеть имеет сложную архитектуру, то возможно переобучение - процесс, в котором модель слишком сильно подстраивается под тренировочную выборку и потом дает заниженное качество на тестовой. Для борьбы с этим можно использовать Dropout. Идея метода очень проста. На тренировке `torch.nn.Dropout` зануляет каждый элемент входного тензора с вероятностью $p$. На инференсе ничего не зануляется, но, для того, чтобы сохранить масштаб выходов сети, все элементы входного тензора делятся на $1 - p$.\n",
    "\n",
    "![Dropout](https://github.com/hse-ds/iad-deep-learning/blob/master/2022/seminars/sem03/static/dropout.png?raw=1)\n",
    "\n",
    "Для стабилизации и ускорения сходимости обучения часто используют батч нормализацию. В **PyTorch** она тоже имплементирована в виде слоя — [`torch.nn.BatchNorm2d`](https://pytorch.org/docs/stable/generated/torch.nn.BatchNorm2d.html). Обычно батч нормализацию вставляют между смысловыми блоками нейронной сети, чтобы сохранять распределение данных на всём forward pass. Обратите внимание, что на тренировке выборочные среднее и стандартное отклонение каждый раз заново вычисляются по батчу, а также у слоя есть обучаемых два числовых параметра на каждый канал входного тензора. На инференсе в качестве среднего и дисперсии используются оценки, полученные скользящими средними во время тренировки.\n",
    "\n",
    "![Batch Norm](https://github.com/hse-ds/iad-deep-learning/blob/master/2022/seminars/sem03/static/batch_norm.png?raw=1)\n",
    "\n",
    "Давайте обучим новую сеть, в которой будет 3 VGG блока и добавим в неё батч нормализацию и дропаут."
   ]
  },
  {
   "cell_type": "code",
   "execution_count": null,
   "metadata": {
    "id": "R_GosJ1k51cT"
   },
   "outputs": [],
   "source": [
    "model = nn.Sequential(\n",
    "    nn.Conv2d(3, 16, 3, padding=1),\n",
    "    nn.BatchNorm2d(16),\n",
    "    nn.ReLU(),\n",
    "    nn.Conv2d(16, 16, 3, padding=1),\n",
    "    nn.BatchNorm2d(16),\n",
    "    nn.ReLU(),\n",
    "    nn.MaxPool2d(2, 2),\n",
    "    # nn.Dropout(0.2),\n",
    "    nn.Conv2d(16, 32, 3, padding=1),\n",
    "    nn.BatchNorm2d(32),\n",
    "    nn.ReLU(),\n",
    "    nn.Conv2d(32, 32, 3, padding=1),\n",
    "    nn.BatchNorm2d(32),\n",
    "    nn.ReLU(),\n",
    "    nn.MaxPool2d(2, 2),\n",
    "    # nn.Dropout(0.2),\n",
    "    nn.Conv2d(32, 64, 3, padding=1),\n",
    "    nn.BatchNorm2d(64),\n",
    "    nn.ReLU(),\n",
    "    nn.Conv2d(64, 64, 3, padding=1),\n",
    "    nn.BatchNorm2d(64),\n",
    "    nn.ReLU(),\n",
    "    nn.MaxPool2d(2, 2),\n",
    "    # nn.Dropout(0.2),\n",
    "    nn.Flatten(),\n",
    "    nn.Linear(64 * 4 * 4, 128),\n",
    "    nn.BatchNorm1d(128),\n",
    "    nn.ReLU(),\n",
    "    nn.Dropout(0.5),\n",
    "    nn.Linear(128, 10),\n",
    ")"
   ]
  },
  {
   "cell_type": "code",
   "execution_count": null,
   "metadata": {
    "id": "t42NiC-o3WYI"
   },
   "outputs": [],
   "source": [
    "model.to(device)\n",
    "criterion = nn.CrossEntropyLoss()\n",
    "optimizer = optim.SGD(model.parameters(), lr=0.001, momentum=0.9)"
   ]
  },
  {
   "cell_type": "code",
   "execution_count": null,
   "metadata": {
    "id": "i0TpDBGL7Fqe"
   },
   "outputs": [],
   "source": [
    "train(model, criterion, optimizer, train_dataloader, val_dataloader)"
   ]
  }
 ],
 "metadata": {
  "accelerator": "GPU",
  "colab": {
   "provenance": [],
   "toc_visible": true
  },
  "kernelspec": {
   "display_name": "Python 3 (ipykernel)",
   "language": "python",
   "name": "python3"
  },
  "language_info": {
   "codemirror_mode": {
    "name": "ipython",
    "version": 3
   },
   "file_extension": ".py",
   "mimetype": "text/x-python",
   "name": "python",
   "nbconvert_exporter": "python",
   "pygments_lexer": "ipython3",
   "version": "3.11.4"
  }
 },
 "nbformat": 4,
 "nbformat_minor": 1
}
