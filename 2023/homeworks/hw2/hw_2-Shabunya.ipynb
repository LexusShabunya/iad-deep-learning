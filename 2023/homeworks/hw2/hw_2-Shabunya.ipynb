{
 "cells": [
  {
   "cell_type": "markdown",
   "metadata": {
    "id": "6H2T2RMFWf1o"
   },
   "source": [
    "# Домашнее задание 2. Классификация изображений."
   ]
  },
  {
   "cell_type": "markdown",
   "metadata": {
    "id": "BxX49gLclRVJ"
   },
   "source": [
    "В этом задании потребуется обучить классификатор изображений. Будем работать с датасетом, название которого раскрывать не будем. Можете посмотреть самостоятельно на картинки, которые в есть датасете. В нём 200 классов и около 5 тысяч картинок на каждый класс. Классы пронумерованы, как нетрудно догадаться, от 0 до 199. Скачать датасет можно вот [тут](https://yadi.sk/d/BNR41Vu3y0c7qA).\n",
    "\n",
    "Структура датасета простая -- есть директории train/ и val/, в которых лежат обучающие и валидационные данные. В train/ и val/ лежат директориии, соответствующие классам изображений, в которых лежат, собственно, сами изображения.\n",
    "\n",
    "__Задание__. Необходимо выполнить два задания\n",
    "\n",
    "1) Добейтесь accuracy **на валидации не менее 0.44**. В этом задании **запрещено** пользоваться предобученными моделями и ресайзом картинок. 5 баллов\n",
    "\n",
    "2) Добейтесь accuracy **на валидации не менее 0.84**. В этом задании делать ресайз и использовать претрейн можно. 5 баллов\n",
    "\n",
    "Напишите краткий отчёт о проделанных экспериментах. Что сработало и что не сработало? Почему вы решили, сделать так, а не иначе? Обязательно указывайте ссылки на чужой код, если вы его используете. Обязательно ссылайтесь на статьи / блогпосты / вопросы на stackoverflow / видосы от ютуберов-машинлернеров / курсы / подсказки от Дяди Васи и прочие дополнительные материалы, если вы их используете.\n",
    "\n",
    "Ваш код обязательно должен проходить все `assert`'ы ниже.\n",
    "\n",
    "__Использовать внешние данные для обучения строго запрещено в обоих заданиях. Также запрещено обучаться на валидационной выборке__.\n",
    "\n",
    "\n",
    "__Критерии оценки__: Оценка вычисляется по простой формуле: `min(10, 10 * Ваша accuracy / 0.44)` для первого задания и `min(10, 10 * (Ваша accuracy - 0.5) / 0.34)` для второго. Оценка округляется до десятых по арифметическим правилам.\n",
    "\n",
    "\n",
    "__Советы и указания__:\n",
    " - Наверняка вам потребуется много гуглить о классификации и о том, как заставить её работать. Это нормально, все гуглят. Но не забывайте, что нужно быть готовым за скатанный код отвечать :)\n",
    " - Используйте аугментации. Для этого пользуйтесь модулем `torchvision.transforms` или библиотекой [albumentations](https://github.com/albumentations-team/albumentations)\n",
    " - Можно обучать с нуля или файнтюнить (в зависимости от задания) модели из `torchvision`.\n",
    " - Рекомендуем написать вам сначала класс-датасет (или воспользоваться классом `ImageFolder`), который возвращает картинки и соответствующие им классы, а затем функции для трейна по шаблонам ниже. Однако делать это мы не заставляем. Если вам так неудобно, то можете писать код в удобном стиле. Однако учтите, что чрезмерное изменение нижеперечисленных шаблонов увеличит количество вопросов к вашему коду и повысит вероятность вызова на защиту :)\n",
    " - Валидируйте. Трекайте ошибки как можно раньше, чтобы не тратить время впустую.\n",
    " - Чтобы быстро отладить код, пробуйте обучаться на маленькой части датасета (скажем, 5-10 картинок просто чтобы убедиться что код запускается). Когда вы поняли, что смогли всё отдебажить, переходите обучению по всему датасету\n",
    " - На каждый запуск делайте ровно одно изменение в модели/аугментации/оптимайзере, чтобы понять, что и как влияет на результат.\n",
    " - Фиксируйте random seed.\n",
    " - Начинайте с простых моделей и постепенно переходите к сложным. Обучение лёгких моделей экономит много времени.\n",
    " - Ставьте расписание на learning rate. Уменьшайте его, когда лосс на валидации перестаёт убывать.\n",
    " - Советуем использовать GPU. Если у вас его нет, используйте google colab. Если вам неудобно его использовать на постоянной основе, напишите и отладьте весь код локально на CPU, а затем запустите уже написанный ноутбук в колабе. Авторское решение задания достигает требуемой точности в колабе за 15 минут обучения.\n",
    "\n",
    "Good luck & have fun! :)"
   ]
  },
  {
   "cell_type": "code",
   "execution_count": 1,
   "metadata": {
    "colab": {
     "base_uri": "https://localhost:8080/"
    },
    "id": "BaPSFxIz96tY",
    "outputId": "fe811b8b-e87d-4b86-c169-944a8298e077"
   },
   "outputs": [],
   "source": [
    "# !pip install wandb\n",
    "# !pip3 install lightning torchmetrics"
   ]
  },
  {
   "cell_type": "markdown",
   "metadata": {
    "id": "zLRgTAdEWf1u"
   },
   "source": [
    "**✨ Внимание ✨**\n",
    "\n",
    "В этом домашнем задании предлагается использовать библиотеку `pytorch_lightning`. Доступ к ее [документации](https://lightning.ai/docs/pytorch/stable/) заблокирован с территории РФ. Вы можете:\n",
    "\n",
    "1. Получить к ней доступ с помощью VPN.\n",
    "\n",
    "2. Собрать документацию самостоятельно. Для этого склонируйте [github-репозиторий](https://github.com/Lightning-AI/lightning/tree/master), запустите в нем терминал (на windows – git bash) и выполните команды:\n",
    "\n",
    "```shell\n",
    "git submodule update --init --recursive\n",
    "make docs\n",
    "```\n",
    "После этого откройте появившийся файл `docs/build/html/index.html`. Для работы команд в вашем окружении должен быть `pip`. Полная инструкция [по ссылке](https://github.com/Lightning-AI/lightning/tree/master/docs).\n",
    "\n",
    "3. Гуглить `<error message> pytorch lightning` или `<how to do this> pytorch lightning`. Stack overflow на территории РФ все еще доступен 😉\n",
    "\n",
    "4. Не пользоваться `pytorch_lightning` и написать цикл обучения модели самостоятельно. Например, по аналогии с функцией `fit` из [семинара 4](https://github.com/hse-ds/iad-deep-learning/blob/master/2023/seminars/04.%20Optim%20%26%20Lightning/04_Optim%26Lightning_solution.ipynb)."
   ]
  },
  {
   "cell_type": "code",
   "execution_count": 2,
   "metadata": {
    "colab": {
     "base_uri": "https://localhost:8080/",
     "height": 119
    },
    "id": "EWT3aFU9XmLJ",
    "outputId": "ddaf7eeb-683b-486e-8b8a-cc3f1d16dceb"
   },
   "outputs": [
    {
     "name": "stderr",
     "output_type": "stream",
     "text": [
      "\u001b[34m\u001b[1mwandb\u001b[0m: Currently logged in as: \u001b[33malekseyshabunya\u001b[0m (\u001b[33maleksey_shabunya\u001b[0m). Use \u001b[1m`wandb login --relogin`\u001b[0m to force relogin\n"
     ]
    },
    {
     "data": {
      "text/plain": [
       "True"
      ]
     },
     "execution_count": 2,
     "metadata": {},
     "output_type": "execute_result"
    }
   ],
   "source": [
    "# Возможно ниже будет не очень работать WandbLogger с первого разу, перезапустите kernel тетрадки\n",
    "import wandb\n",
    "\n",
    "wandb.login()"
   ]
  },
  {
   "cell_type": "code",
   "execution_count": 3,
   "metadata": {
    "id": "LKcSNj4tlRVK"
   },
   "outputs": [],
   "source": [
    "import math\n",
    "import os\n",
    "import random\n",
    "import sys\n",
    "\n",
    "import matplotlib.pyplot as plt\n",
    "import numpy as np\n",
    "import pytorch_lightning as pl\n",
    "import torch\n",
    "import torchvision\n",
    "import torchvision.transforms as transforms\n",
    "import pandas as pd\n",
    "from PIL import Image\n",
    "from pytorch_lightning.loggers import WandbLogger\n",
    "from torch import nn\n",
    "from torch.nn import functional as F\n",
    "from torch.utils.data import DataLoader\n",
    "from torchmetrics import Accuracy\n",
    "from torchvision.datasets import ImageFolder\n",
    "from tqdm import tqdm\n",
    "from pytorch_lightning.callbacks import ModelCheckpoint\n",
    "from pytorch_lightning.tuner.tuning import Tuner\n",
    "from torchvision.models import resnet50\n",
    "from torchvision.models import efficientnet_v2_s\n",
    "from torch.optim.lr_scheduler import ReduceLROnPlateau\n",
    "from pytorch_lightning.callbacks import LearningRateMonitor\n",
    "from lightning.pytorch.callbacks.early_stopping import EarlyStopping\n",
    "\n",
    "\n",
    "# You may add any imports you need"
   ]
  },
  {
   "cell_type": "code",
   "execution_count": 4,
   "metadata": {
    "id": "47YPLjDL-Mtv"
   },
   "outputs": [],
   "source": [
    "def seed_everything(seed):\n",
    "    # Фискирует максимум сидов.\n",
    "    # Это понадобится, чтобы сравнение оптимизаторов было корректным\n",
    "    random.seed(seed)\n",
    "    os.environ[\"PYTHONHASHSEED\"] = str(seed)\n",
    "    np.random.seed(seed)\n",
    "    torch.manual_seed(seed)\n",
    "    torch.cuda.manual_seed(seed)\n",
    "    torch.backends.cudnn.deterministic = True\n",
    "\n",
    "\n",
    "seed_everything(123456)"
   ]
  },
  {
   "cell_type": "code",
   "execution_count": 5,
   "metadata": {
    "colab": {
     "base_uri": "https://localhost:8080/",
     "height": 35
    },
    "id": "K75UeKk6Y8cR",
    "outputId": "6c416161-0871-4e92-f622-78bd4d243fef"
   },
   "outputs": [
    {
     "data": {
      "text/plain": [
       "'cpu'"
      ]
     },
     "execution_count": 5,
     "metadata": {},
     "output_type": "execute_result"
    }
   ],
   "source": [
    "device = \"cuda\" if torch.cuda.is_available() else \"cpu\"\n",
    "device"
   ]
  },
  {
   "cell_type": "code",
   "execution_count": 6,
   "metadata": {
    "colab": {
     "base_uri": "https://localhost:8080/"
    },
    "id": "gVKdh063AzhH",
    "outputId": "ce49e423-8c55-4dbc-ae6f-198881b69774"
   },
   "outputs": [],
   "source": [
    "# !wget https://www.dropbox.com/s/33l8lp62rmvtx40/dataset.zip?dl=1 -O dataset.zip && unzip -q dataset.zip"
   ]
  },
  {
   "cell_type": "markdown",
   "metadata": {
    "id": "RytEDW0ylRVN"
   },
   "source": [
    "## Задание 0"
   ]
  },
  {
   "cell_type": "markdown",
   "metadata": {
    "id": "2HZECedTvepi"
   },
   "source": [
    "### Что поможет сделать на 10 из 10 (одно задание - 5 баллов)"
   ]
  },
  {
   "cell_type": "markdown",
   "metadata": {
    "id": "dOioHGEiveso"
   },
   "source": [
    "1. Использовать все возможные методы оптимизации и эксперемнтировать с ними.\n",
    "2. Подбор learning rate. Пример из прошлого семинара как это делать: [Как найти lr](https://pytorch-lightning.readthedocs.io/en/1.4.5/advanced/lr_finder.html)\n",
    "\n",
    "```\n",
    "  trainer = pl.Trainer(accelerator=\"gpu\", max_epochs=2, auto_lr_find=True)\n",
    "\n",
    "  trainer.tune(module, train_dataloader, eval_dataloader)\n",
    "\n",
    "  trainer.fit(module, train_dataloader, eval_dataloader))\n",
    "```\n",
    "\n",
    "\n",
    "\n",
    "3. Аугментация данных. [Документация (полезная)](https://pytorch.org/vision/main/transforms.html), а также [библиотека albumentation](https://towardsdatascience.com/getting-started-with-albumentation-winning-deep-learning-image-augmentation-technique-in-pytorch-47aaba0ee3f8)\n",
    "4. Подбор архитектуры модели.\n",
    "5. Можно написать модель руками свою в YourNet, а можно импортировать не предобученную сетку известной архитектуры из модуля torchvision.models. Один из способов как можно сделать:\n",
    "\n",
    "  * `torchvision.models.resnet18(pretrained=False, num_classes=200).to(device)`\n",
    "  * Документация по возможным моделям и как их можно брать: [Документация (полезная)](https://pytorch.org/vision/stable/models.html)\n",
    "6. Правильно нормализовывать данные при создании, пример [тык, но тут и в целом гайд от и до](https://www.pluralsight.com/guides/image-classification-with-pytorch)\n",
    "7. Model Checkpointing. Сохраняйте свой прогресс (модели), чтобы когда что-то пойдет не так вы сможете начать с этого места или просто воспроизвести свои результаты модели, которые обучали.\n",
    " * Пример как можно с wandb тут: [Сохраняем лучшие модели в wandb](https://docs.wandb.ai/guides/integrations/lightning)\n",
    " * По простому можно так: [Сохраняем модели в pytorch дока](https://pytorch.org/tutorials/beginner/saving_loading_models.html)"
   ]
  },
  {
   "cell_type": "markdown",
   "metadata": {
    "id": "WYePsQgNRB-n"
   },
   "source": [
    "### Подготовка данных"
   ]
  },
  {
   "cell_type": "markdown",
   "metadata": {},
   "source": [
    "Посчитаем средние и СКО по каждому каналу"
   ]
  },
  {
   "cell_type": "code",
   "execution_count": 7,
   "metadata": {},
   "outputs": [],
   "source": [
    "data_loader = DataLoader(ImageFolder('./dataset/dataset/train', transform=transforms.ToTensor()), \n",
    "                         batch_size=4096, \n",
    "                         shuffle=True, \n",
    "                         num_workers=7, \n",
    "                         persistent_workers=True)"
   ]
  },
  {
   "cell_type": "code",
   "execution_count": 8,
   "metadata": {
    "scrolled": true
   },
   "outputs": [
    {
     "name": "stderr",
     "output_type": "stream",
     "text": [
      "100%|███████████████████████████████████████████| 25/25 [00:11<00:00,  2.22it/s]\n"
     ]
    }
   ],
   "source": [
    "pixels_sum = torch.tensor([0, 0, 0], requires_grad=False).float()\n",
    "pixels_square_sum = torch.tensor([0, 0, 0], requires_grad=False).float()\n",
    "cnt_pixels = torch.tensor(0, requires_grad=False)\n",
    "\n",
    "for batch in tqdm(data_loader):\n",
    "    images = batch[0].requires_grad_(requires_grad=False)\n",
    "    \n",
    "    pixels_sum += torch.sum(images, dim=(0, 2, 3))\n",
    "    pixels_square_sum += torch.sum(torch.square(images), dim=(0, 2, 3))\n",
    "    \n",
    "    cnt_pixels += images.size()[0] * images.size()[2] * images.size()[3]\n",
    "    \n",
    "means = pixels_sum / cnt_pixels\n",
    "stds = pixels_square_sum / cnt_pixels - torch.square(means)"
   ]
  },
  {
   "cell_type": "markdown",
   "metadata": {},
   "source": [
    "Предобработаем данные"
   ]
  },
  {
   "cell_type": "code",
   "execution_count": 9,
   "metadata": {
    "id": "QEdDQtHdlRVO"
   },
   "outputs": [],
   "source": [
    "# YOU CAN DEFINE AUGMENTATIONS HERE\n",
    "train_transform = transforms.Compose(\n",
    "    [\n",
    "        transforms.ColorJitter(hue=0.05, saturation=0.05),\n",
    "        transforms.RandomHorizontalFlip(0.3),\n",
    "        transforms.RandomRotation(20),\n",
    "        transforms.ToTensor(),\n",
    "        transforms.Normalize(means, stds),\n",
    "    ]\n",
    ")\n",
    "\n",
    "val_transform = transforms.Compose(\n",
    "    [\n",
    "        torchvision.transforms.ToTensor(),\n",
    "        transforms.Normalize(means, stds),\n",
    "    ]\n",
    ")\n",
    "\n",
    "train_dataset = ImageFolder('./dataset/dataset/train', transform=train_transform)\n",
    "val_dataset = ImageFolder('./dataset/dataset/val', transform=val_transform)\n",
    "# REPLACE ./dataset/dataset WITH THE FOLDER WHERE YOU DOWNLOADED AND UNZIPPED THE DATASET\n",
    "\n",
    "train_dataloader = DataLoader(train_dataset, batch_size=128, shuffle=True, num_workers=7, persistent_workers=True) # YOUR CODE HERE\n",
    "val_dataloader = DataLoader(val_dataset, batch_size=128, shuffle=False, num_workers=7, persistent_workers=True) # YOUR CODE HERE"
   ]
  },
  {
   "cell_type": "code",
   "execution_count": 10,
   "metadata": {
    "colab": {
     "base_uri": "https://localhost:8080/"
    },
    "id": "mrg4Yj0VlRVP",
    "outputId": "15649344-ee31-4ca4-b8c1-04ec2dcb28ba"
   },
   "outputs": [
    {
     "name": "stdout",
     "output_type": "stream",
     "text": [
      "tests passed\n"
     ]
    }
   ],
   "source": [
    "# Just very simple sanity checks\n",
    "assert isinstance(train_dataset[0], tuple)\n",
    "assert len(train_dataset[0]) == 2\n",
    "assert isinstance(train_dataset[1][1], int)\n",
    "print(\"tests passed\")"
   ]
  },
  {
   "cell_type": "markdown",
   "metadata": {
    "id": "EOuM0EEYj7Ml"
   },
   "source": [
    "### Посмотрим на картиночки"
   ]
  },
  {
   "cell_type": "code",
   "execution_count": 11,
   "metadata": {
    "colab": {
     "base_uri": "https://localhost:8080/",
     "height": 881
    },
    "id": "DeuB0YC3LYRm",
    "outputId": "84a468e9-6817-495e-dad1-a8eaf6f3f6f3"
   },
   "outputs": [
    {
     "name": "stderr",
     "output_type": "stream",
     "text": [
      "Clipping input data to the valid range for imshow with RGB data ([0..1] for floats or [0..255] for integers).\n"
     ]
    },
    {
     "data": {
      "image/png": "[encoded data removed]",
      "text/plain": [
       "<Figure size 640x480 with 1 Axes>"
      ]
     },
     "metadata": {},
     "output_type": "display_data"
    },
    {
     "name": "stderr",
     "output_type": "stream",
     "text": [
      "Clipping input data to the valid range for imshow with RGB data ([0..1] for floats or [0..255] for integers).\n"
     ]
    },
    {
     "data": {
      "image/png": "[encoded data removed]",
      "text/plain": [
       "<Figure size 640x480 with 1 Axes>"
      ]
     },
     "metadata": {},
     "output_type": "display_data"
    }
   ],
   "source": [
    "for batch in val_dataloader:\n",
    "    images, class_nums = batch\n",
    "    plt.imshow(images[5].permute(1, 2, 0))\n",
    "    plt.show()\n",
    "    plt.imshow(images[19].permute(1, 2, 0))\n",
    "    plt.show()\n",
    "    break"
   ]
  },
  {
   "cell_type": "markdown",
   "metadata": {
    "id": "LCwKB-3nKm1-"
   },
   "source": [
    "## Задание 1.\n",
    "\n",
    "5 баллов\n",
    "Добейтесь accuracy на валидации не менее 0.44. В этом задании запрещено пользоваться предобученными моделями и ресайзом картинок.\n",
    "\n",
    "\n",
    "Для того чтобы выбить скор (считается ниже) на 2.5/5 балла (то есть половину за задание) достаточно соблюдать пару простых жизненных правил:\n",
    "1. Аугментация (без нее сложно очень будет)\n",
    "2. Оптимайзеры можно (и нужно) использовать друг с другом. Однако когда что-то проверяете, то не меняйте несколько параметров сразу - собьете логику экспериментов\n",
    "3. Не используйте полносвязные модели или самые первые сверточные, используйте более современные архитектуры (что на лекциях встречались)\n",
    "4. Посмотреть все ноутбуки прошедших семинаров и слепить из них что-то общее. Семинарских тетрадок хватит сверх"
   ]
  },
  {
   "cell_type": "markdown",
   "metadata": {
    "id": "f7iHXWj1alM1"
   },
   "source": [
    "### Тренировочный класс lightning"
   ]
  },
  {
   "cell_type": "code",
   "execution_count": 12,
   "metadata": {
    "id": "lD76TeZ1apua"
   },
   "outputs": [],
   "source": [
    "class YourModule(pl.LightningModule):\n",
    "    def __init__(self, model, learning_rate):\n",
    "        super().__init__()\n",
    "        self.model = model\n",
    "        self.learning_rate = learning_rate\n",
    "        \n",
    "        self.loss_func = torch.nn.CrossEntropyLoss()\n",
    "        self.accuracy = Accuracy(task=\"multiclass\", num_classes=200, top_k=1)\n",
    "        \n",
    "    def forward(self, x):\n",
    "        \n",
    "        return self.model(x)\n",
    "\n",
    "    def configure_optimizers(self):\n",
    "        optimizer = torch.optim.Adam(self.parameters(), lr=self.learning_rate)\n",
    "        scheduler = ReduceLROnPlateau(optimizer, patience=2, threshold=0.1)\n",
    "        \n",
    "        return {'optimizer': optimizer, 'lr_scheduler': {'scheduler': scheduler, 'monitor': 'val_accuracy'}}\n",
    "\n",
    "    def training_step(self, train_batch, batch_idx):\n",
    "        images, target = train_batch\n",
    "        \n",
    "        preds = self.forward(images)\n",
    "        \n",
    "        train_loss = self.loss_func(preds, target)\n",
    "        train_accuracy = self.accuracy(preds, target)\n",
    "        \n",
    "        self.log('train_loss', train_loss, prog_bar=True, on_step=False, on_epoch=True)\n",
    "        self.log('train_accuracy', train_accuracy, prog_bar=True, on_step=False, on_epoch=True)\n",
    "        \n",
    "        return train_loss\n",
    "\n",
    "    def validation_step(self, val_batch, batch_idx):\n",
    "        images, target = val_batch\n",
    "        preds = self.forward(images)\n",
    "        \n",
    "        val_loss = self.loss_func(preds, target)\n",
    "        val_accuracy = self.accuracy(preds, target)\n",
    "        \n",
    "        self.log('val_loss', val_loss, prog_bar=True)\n",
    "        self.log('val_accuracy', val_accuracy, prog_bar=True)"
   ]
  },
  {
   "cell_type": "code",
   "execution_count": 13,
   "metadata": {
    "id": "z9-1wq7QYkiz"
   },
   "outputs": [],
   "source": [
    "wandb_logger = WandbLogger(project='HW2 task1', log_model='all') # какие возможности дает с pytorch_lightning https://docs.wandb.ai/guides/integrations/lightning\n",
    "\n",
    "model = resnet50(weights=None, num_classes=200).to(device) # YOUR CODE HERE\n",
    "module = YourModule(model, 0.001) # YOUR CODE HERE"
   ]
  },
  {
   "cell_type": "code",
   "execution_count": 14,
   "metadata": {
    "colab": {
     "background_save": true,
     "base_uri": "https://localhost:8080/",
     "height": 134,
     "referenced_widgets": [
      "6dcbbca0a8ac4d3e90e2cbd7753dfb7f",
      "cbbba6e861364a75b6ec4521e8d8d3d6",
      "31c8582181004ba78e6dfd6e25fd1535",
      "fdafc759cd894f9fb114989cf0898470",
      "14d120344cc04953aef373f73707b6a5",
      "7a048d01f8ae448482175e1d350fb2e9",
      "8f9a7c6bcab74c5aa58485669a3de6c7",
      "8ab979fdedef480691d41c3f29e2ceb9",
      "360aaae647224cb1a6d47a56e23bb635",
      "82d05a5ad8f04e9887aa5f93f9825640",
      "0fec5351d955444d968cbccf5083adca"
     ]
    },
    "id": "If8fi4HZkN3J",
    "outputId": "db30a75f-13d8-4967-d41e-46c347d0f1ac",
    "scrolled": false
   },
   "outputs": [
    {
     "name": "stderr",
     "output_type": "stream",
     "text": [
      "GPU available: True (mps), used: True\n",
      "TPU available: False, using: 0 TPU cores\n",
      "IPU available: False, using: 0 IPUs\n",
      "HPU available: False, using: 0 HPUs\n"
     ]
    }
   ],
   "source": [
    "checkpoint_callback = ModelCheckpoint(\n",
    "    dirpath='./models/task1',\n",
    "    filename='{model}-{epoch}-{val_accuracy:.2f}',\n",
    "    monitor='val_accuracy',\n",
    "    save_top_k=1,\n",
    "    mode='max',\n",
    "    every_n_epochs=1\n",
    ")\n",
    "\n",
    "lr_monitor = LearningRateMonitor(logging_interval='epoch')\n",
    "\n",
    "# early_stopping = EarlyStopping(monitor='train_loss', mode='max', stopping_threshold=0.44)\n",
    "\n",
    "trainer = pl.Trainer(logger=wandb_logger, \n",
    "                     max_epochs=25, \n",
    "                     callbacks=[checkpoint_callback, lr_monitor])  # YOUR CODE HERE\n"
   ]
  },
  {
   "cell_type": "code",
   "execution_count": 15,
   "metadata": {
    "colab": {
     "base_uri": "https://localhost:8080/",
     "height": 191
    },
    "id": "cJx9HrNSjnoR",
    "outputId": "efb64fa0-1279-48d4-ef9f-36d84b473778",
    "scrolled": false
   },
   "outputs": [
    {
     "data": {
      "text/html": [
       "wandb version 0.16.0 is available!  To upgrade, please run:\n",
       " $ pip install wandb --upgrade"
      ],
      "text/plain": [
       "<IPython.core.display.HTML object>"
      ]
     },
     "metadata": {},
     "output_type": "display_data"
    },
    {
     "data": {
      "text/html": [
       "Tracking run with wandb version 0.15.12"
      ],
      "text/plain": [
       "<IPython.core.display.HTML object>"
      ]
     },
     "metadata": {},
     "output_type": "display_data"
    },
    {
     "data": {
      "text/html": [
       "Run data is saved locally in <code>./wandb/run-20231118_234635-gt4ypl8i</code>"
      ],
      "text/plain": [
       "<IPython.core.display.HTML object>"
      ]
     },
     "metadata": {},
     "output_type": "display_data"
    },
    {
     "data": {
      "text/html": [
       "Syncing run <strong><a href='https://wandb.ai/aleksey_shabunya/HW2%20task1/runs/gt4ypl8i' target=\"_blank\">scarlet-eon-10</a></strong> to <a href='https://wandb.ai/aleksey_shabunya/HW2%20task1' target=\"_blank\">Weights & Biases</a> (<a href='https://wandb.me/run' target=\"_blank\">docs</a>)<br/>"
      ],
      "text/plain": [
       "<IPython.core.display.HTML object>"
      ]
     },
     "metadata": {},
     "output_type": "display_data"
    },
    {
     "data": {
      "text/html": [
       " View project at <a href='https://wandb.ai/aleksey_shabunya/HW2%20task1' target=\"_blank\">https://wandb.ai/aleksey_shabunya/HW2%20task1</a>"
      ],
      "text/plain": [
       "<IPython.core.display.HTML object>"
      ]
     },
     "metadata": {},
     "output_type": "display_data"
    },
    {
     "data": {
      "text/html": [
       " View run at <a href='https://wandb.ai/aleksey_shabunya/HW2%20task1/runs/gt4ypl8i' target=\"_blank\">https://wandb.ai/aleksey_shabunya/HW2%20task1/runs/gt4ypl8i</a>"
      ],
      "text/plain": [
       "<IPython.core.display.HTML object>"
      ]
     },
     "metadata": {},
     "output_type": "display_data"
    },
    {
     "name": "stderr",
     "output_type": "stream",
     "text": [
      "/Users/alex/anaconda3/lib/python3.11/site-packages/pytorch_lightning/callbacks/model_checkpoint.py:630: Checkpoint directory /Users/alex/Documents/iad-deep-learning/2023/homeworks/hw2/models/task1 exists and is not empty.\n",
      "\n",
      "  | Name      | Type               | Params\n",
      "-------------------------------------------------\n",
      "0 | model     | ResNet             | 23.9 M\n",
      "1 | loss_func | CrossEntropyLoss   | 0     \n",
      "2 | accuracy  | MulticlassAccuracy | 0     \n",
      "-------------------------------------------------\n",
      "23.9 M    Trainable params\n",
      "0         Non-trainable params\n",
      "23.9 M    Total params\n",
      "95.671    Total estimated model params size (MB)\n"
     ]
    },
    {
     "data": {
      "application/vnd.jupyter.widget-view+json": {
       "model_id": "",
       "version_major": 2,
       "version_minor": 0
      },
      "text/plain": [
       "Sanity Checking: |                                        | 0/? [00:00<?, ?it/s]"
      ]
     },
     "metadata": {},
     "output_type": "display_data"
    },
    {
     "name": "stderr",
     "output_type": "stream",
     "text": [
      "/Users/alex/anaconda3/lib/python3.11/site-packages/torchmetrics/functional/classification/accuracy.py:77: UserWarning: MPS: no support for int64 reduction ops, casting it to int32 (Triggered internally at /private/var/folders/nz/j6p8yfhx1mv_0grj5xl4650h0000gp/T/abs_1aidzjezue/croot/pytorch_1687856425340/work/aten/src/ATen/native/mps/operations/ReduceOps.mm:144.)\n",
      "  tp = tp.sum(dim=0 if multidim_average == \"global\" else 1)\n"
     ]
    },
    {
     "data": {
      "application/vnd.jupyter.widget-view+json": {
       "model_id": "c9c9baf255aa445bae6181facadca40c",
       "version_major": 2,
       "version_minor": 0
      },
      "text/plain": [
       "Training: |                                               | 0/? [00:00<?, ?it/s]"
      ]
     },
     "metadata": {},
     "output_type": "display_data"
    },
    {
     "name": "stderr",
     "output_type": "stream",
     "text": [
      "/Users/alex/anaconda3/lib/python3.11/site-packages/pytorch_lightning/trainer/call.py:54: Detected KeyboardInterrupt, attempting graceful shutdown...\n"
     ]
    },
    {
     "data": {
      "text/html": [
       "Waiting for W&B process to finish... <strong style=\"color:green\">(success).</strong>"
      ],
      "text/plain": [
       "<IPython.core.display.HTML object>"
      ]
     },
     "metadata": {},
     "output_type": "display_data"
    },
    {
     "data": {
      "application/vnd.jupyter.widget-view+json": {
       "model_id": "13b4167b7a9543bf863bedd613c5de7c",
       "version_major": 2,
       "version_minor": 0
      },
      "text/plain": [
       "VBox(children=(Label(value='0.001 MB of 0.027 MB uploaded (0.000 MB deduped)\\r'), FloatProgress(value=0.035552…"
      ]
     },
     "metadata": {},
     "output_type": "display_data"
    },
    {
     "data": {
      "text/html": [
       "<style>\n",
       "    table.wandb td:nth-child(1) { padding: 0 10px; text-align: left ; width: auto;} td:nth-child(2) {text-align: left ; width: 100%}\n",
       "    .wandb-row { display: flex; flex-direction: row; flex-wrap: wrap; justify-content: flex-start; width: 100% }\n",
       "    .wandb-col { display: flex; flex-direction: column; flex-basis: 100%; flex: 1; padding: 10px; }\n",
       "    </style>\n",
       "<div class=\"wandb-row\"><div class=\"wandb-col\"><h3>Run history:</h3><br/><table class=\"wandb\"><tr><td>lr-Adam</td><td>▁</td></tr><tr><td>trainer/global_step</td><td>▁</td></tr></table><br/></div><div class=\"wandb-col\"><h3>Run summary:</h3><br/><table class=\"wandb\"><tr><td>lr-Adam</td><td>0.001</td></tr><tr><td>trainer/global_step</td><td>0</td></tr></table><br/></div></div>"
      ],
      "text/plain": [
       "<IPython.core.display.HTML object>"
      ]
     },
     "metadata": {},
     "output_type": "display_data"
    },
    {
     "data": {
      "text/html": [
       " View run <strong style=\"color:#cdcd00\">scarlet-eon-10</strong> at: <a href='https://wandb.ai/aleksey_shabunya/HW2%20task1/runs/gt4ypl8i' target=\"_blank\">https://wandb.ai/aleksey_shabunya/HW2%20task1/runs/gt4ypl8i</a><br/> View job at <a href='https://wandb.ai/aleksey_shabunya/HW2%20task1/jobs/QXJ0aWZhY3RDb2xsZWN0aW9uOjExNjYwMDQ0NQ==/version_details/v4' target=\"_blank\">https://wandb.ai/aleksey_shabunya/HW2%20task1/jobs/QXJ0aWZhY3RDb2xsZWN0aW9uOjExNjYwMDQ0NQ==/version_details/v4</a><br/>Synced 6 W&B file(s), 0 media file(s), 0 artifact file(s) and 0 other file(s)"
      ],
      "text/plain": [
       "<IPython.core.display.HTML object>"
      ]
     },
     "metadata": {},
     "output_type": "display_data"
    },
    {
     "data": {
      "text/html": [
       "Find logs at: <code>./wandb/run-20231118_234635-gt4ypl8i/logs</code>"
      ],
      "text/plain": [
       "<IPython.core.display.HTML object>"
      ]
     },
     "metadata": {},
     "output_type": "display_data"
    }
   ],
   "source": [
    "trainer.fit(module, train_dataloader, val_dataloader)  # YOUR CODE HERE\n",
    "wandb.finish()"
   ]
  },
  {
   "cell_type": "markdown",
   "metadata": {},
   "source": [
    "Я могу обучить 25 эпох реснет50, пока течёт мой любимый кепчук (олды на месте)  \n",
    "[Ссылка](https://wandb.ai/aleksey_shabunya/HW2%20task1/runs/n2o3js48?workspace=user-alekseyshabunya) на ран wandb (на всякий случай)"
   ]
  },
  {
   "cell_type": "markdown",
   "metadata": {
    "id": "3eoTAB1fSOuk"
   },
   "source": [
    "### Валидация результатов задания"
   ]
  },
  {
   "cell_type": "code",
   "execution_count": 16,
   "metadata": {
    "id": "4M_BAiMNl1rL"
   },
   "outputs": [],
   "source": [
    "def evaluate_task(model, test_dataloader, device='cuda:0'): # немного пересписал, так как работало странно\n",
    "    acc = Accuracy(task=\"multiclass\", num_classes=200, top_k=1)\n",
    "    model = model.to(device)\n",
    "    model.eval()\n",
    "    accuracy = 0.0\n",
    "    for images, labels in tqdm(test_dataloader):\n",
    "        images, labels = images.to(device), labels.to(device)\n",
    "        with torch.no_grad():\n",
    "            preds = model(images)\n",
    "            acc_batch = acc(preds, labels)\n",
    "        accuracy += acc_batch\n",
    "    accuracy = accuracy / len(test_dataloader)\n",
    "    \n",
    "    return accuracy\n"
   ]
  },
  {
   "cell_type": "code",
   "execution_count": 17,
   "metadata": {},
   "outputs": [],
   "source": [
    "val_dataloader = DataLoader(val_dataset, batch_size=128, shuffle=False, num_workers=7, persistent_workers=True) # YOUR CODE HERE\n"
   ]
  },
  {
   "cell_type": "code",
   "execution_count": 18,
   "metadata": {
    "id": "TsP57VG8KEfP"
   },
   "outputs": [
    {
     "name": "stderr",
     "output_type": "stream",
     "text": [
      "\n",
      "  0%|                                                    | 0/79 [00:00<?, ?it/s]\u001b[A\n",
      "  1%|▌                                           | 1/79 [00:09<12:56,  9.96s/it]\u001b[A\n",
      "  3%|█                                           | 2/79 [00:13<07:58,  6.22s/it]\u001b[A\n",
      "  4%|█▋                                          | 3/79 [00:17<06:21,  5.02s/it]\u001b[A\n",
      "  5%|██▏                                         | 4/79 [00:20<05:35,  4.48s/it]\u001b[A\n",
      "  6%|██▊                                         | 5/79 [00:24<05:07,  4.15s/it]\u001b[A\n",
      "  8%|███▎                                        | 6/79 [00:28<04:51,  3.99s/it]\u001b[A\n",
      "  9%|███▉                                        | 7/79 [00:31<04:36,  3.84s/it]\u001b[A\n",
      " 10%|████▍                                       | 8/79 [00:35<04:26,  3.75s/it]\u001b[A\n",
      " 11%|█████                                       | 9/79 [00:38<04:18,  3.69s/it]\u001b[A\n",
      " 13%|█████▍                                     | 10/79 [00:42<04:11,  3.64s/it]\u001b[A\n",
      " 14%|█████▉                                     | 11/79 [00:45<04:08,  3.65s/it]\u001b[A\n",
      " 15%|██████▌                                    | 12/79 [00:49<04:02,  3.61s/it]\u001b[A\n",
      " 16%|███████                                    | 13/79 [00:52<03:56,  3.58s/it]\u001b[A\n",
      " 18%|███████▌                                   | 14/79 [00:56<03:52,  3.57s/it]\u001b[A\n",
      " 19%|████████▏                                  | 15/79 [01:00<03:50,  3.61s/it]\u001b[A\n",
      " 20%|████████▋                                  | 16/79 [01:03<03:46,  3.60s/it]\u001b[A\n",
      " 22%|█████████▎                                 | 17/79 [01:07<03:42,  3.58s/it]\u001b[A\n",
      " 23%|█████████▊                                 | 18/79 [01:10<03:38,  3.57s/it]\u001b[A\n",
      " 24%|██████████▎                                | 19/79 [01:14<03:33,  3.56s/it]\u001b[A\n",
      " 25%|██████████▉                                | 20/79 [01:18<03:31,  3.59s/it]\u001b[A\n",
      " 27%|███████████▍                               | 21/79 [01:21<03:27,  3.58s/it]\u001b[A\n",
      " 28%|███████████▉                               | 22/79 [01:25<03:23,  3.56s/it]\u001b[A\n",
      " 29%|████████████▌                              | 23/79 [01:28<03:18,  3.55s/it]\u001b[A\n",
      " 30%|█████████████                              | 24/79 [01:32<03:17,  3.59s/it]\u001b[A\n",
      " 32%|█████████████▌                             | 25/79 [01:35<03:13,  3.59s/it]\u001b[A\n",
      " 33%|██████████████▏                            | 26/79 [01:39<03:08,  3.56s/it]\u001b[A\n",
      " 34%|██████████████▋                            | 27/79 [01:42<03:04,  3.55s/it]\u001b[A\n",
      " 35%|███████████████▏                           | 28/79 [01:46<03:02,  3.57s/it]\u001b[A\n",
      " 37%|███████████████▊                           | 29/79 [01:50<02:59,  3.60s/it]\u001b[A\n",
      " 38%|████████████████▎                          | 30/79 [01:53<02:56,  3.59s/it]\u001b[A\n",
      " 39%|████████████████▊                          | 31/79 [01:57<02:51,  3.58s/it]\u001b[A\n",
      " 41%|█████████████████▍                         | 32/79 [02:00<02:47,  3.56s/it]\u001b[A\n",
      " 42%|█████████████████▉                         | 33/79 [02:04<02:45,  3.59s/it]\u001b[A\n",
      " 43%|██████████████████▌                        | 34/79 [02:08<02:40,  3.57s/it]\u001b[A\n",
      " 44%|███████████████████                        | 35/79 [02:11<02:36,  3.55s/it]\u001b[A\n",
      " 46%|███████████████████▌                       | 36/79 [02:15<02:32,  3.54s/it]\u001b[A\n",
      " 47%|████████████████████▏                      | 37/79 [02:18<02:28,  3.54s/it]\u001b[A\n",
      " 48%|████████████████████▋                      | 38/79 [02:22<02:25,  3.56s/it]\u001b[A\n",
      " 49%|█████████████████████▏                     | 39/79 [02:25<02:22,  3.57s/it]\u001b[A\n",
      " 51%|█████████████████████▊                     | 40/79 [02:29<02:18,  3.55s/it]\u001b[A\n",
      " 52%|██████████████████████▎                    | 41/79 [02:32<02:14,  3.55s/it]\u001b[A\n",
      " 53%|██████████████████████▊                    | 42/79 [02:36<02:12,  3.58s/it]\u001b[A\n",
      " 54%|███████████████████████▍                   | 43/79 [02:40<02:08,  3.56s/it]\u001b[A\n",
      " 56%|███████████████████████▉                   | 44/79 [02:43<02:04,  3.55s/it]\u001b[A\n",
      " 57%|████████████████████████▍                  | 45/79 [02:47<02:00,  3.55s/it]\u001b[A\n",
      " 58%|█████████████████████████                  | 46/79 [02:50<01:57,  3.55s/it]\u001b[A\n",
      " 59%|█████████████████████████▌                 | 47/79 [02:54<01:54,  3.57s/it]\u001b[A\n",
      " 61%|██████████████████████████▏                | 48/79 [02:57<01:50,  3.56s/it]\u001b[A\n",
      " 62%|██████████████████████████▋                | 49/79 [03:01<01:46,  3.55s/it]\u001b[A\n",
      " 63%|███████████████████████████▏               | 50/79 [03:04<01:42,  3.55s/it]\u001b[A\n",
      " 65%|███████████████████████████▊               | 51/79 [03:08<01:40,  3.58s/it]\u001b[A\n",
      " 66%|████████████████████████████▎              | 52/79 [03:12<01:36,  3.58s/it]\u001b[A\n",
      " 67%|████████████████████████████▊              | 53/79 [03:15<01:32,  3.57s/it]\u001b[A\n",
      " 68%|█████████████████████████████▍             | 54/79 [03:19<01:29,  3.58s/it]\u001b[A\n",
      " 70%|█████████████████████████████▉             | 55/79 [03:22<01:25,  3.55s/it]\u001b[A\n",
      " 71%|██████████████████████████████▍            | 56/79 [03:26<01:22,  3.58s/it]\u001b[A\n",
      " 72%|███████████████████████████████            | 57/79 [03:29<01:18,  3.56s/it]\u001b[A\n",
      " 73%|███████████████████████████████▌           | 58/79 [03:33<01:14,  3.55s/it]\u001b[A\n",
      " 75%|████████████████████████████████           | 59/79 [03:37<01:11,  3.56s/it]\u001b[A\n",
      " 76%|████████████████████████████████▋          | 60/79 [03:40<01:07,  3.57s/it]\u001b[A\n",
      " 77%|█████████████████████████████████▏         | 61/79 [03:44<01:04,  3.56s/it]\u001b[A\n",
      " 78%|█████████████████████████████████▋         | 62/79 [03:47<01:00,  3.56s/it]\u001b[A\n",
      " 80%|██████████████████████████████████▎        | 63/79 [03:51<00:56,  3.55s/it]\u001b[A\n",
      " 81%|██████████████████████████████████▊        | 64/79 [03:54<00:53,  3.54s/it]\u001b[A\n",
      " 82%|███████████████████████████████████▍       | 65/79 [03:58<00:49,  3.57s/it]\u001b[A\n",
      " 84%|███████████████████████████████████▉       | 66/79 [04:01<00:46,  3.55s/it]\u001b[A\n",
      " 85%|████████████████████████████████████▍      | 67/79 [04:05<00:42,  3.58s/it]\u001b[A\n",
      " 86%|█████████████████████████████████████      | 68/79 [04:09<00:39,  3.57s/it]\u001b[A\n",
      " 87%|█████████████████████████████████████▌     | 69/79 [04:12<00:35,  3.57s/it]\u001b[A\n",
      " 89%|██████████████████████████████████████     | 70/79 [04:16<00:32,  3.56s/it]\u001b[A\n",
      " 90%|██████████████████████████████████████▋    | 71/79 [04:19<00:28,  3.56s/it]\u001b[A\n",
      " 91%|███████████████████████████████████████▏   | 72/79 [04:23<00:24,  3.55s/it]\u001b[A\n",
      " 92%|███████████████████████████████████████▋   | 73/79 [04:26<00:21,  3.55s/it]\u001b[A\n",
      " 94%|████████████████████████████████████████▎  | 74/79 [04:30<00:17,  3.56s/it]\u001b[A\n",
      " 95%|████████████████████████████████████████▊  | 75/79 [04:33<00:14,  3.55s/it]\u001b[A\n",
      " 96%|█████████████████████████████████████████▎ | 76/79 [04:37<00:10,  3.56s/it]\u001b[A\n",
      " 97%|█████████████████████████████████████████▉ | 77/79 [04:41<00:07,  3.57s/it]\u001b[A\n",
      " 99%|██████████████████████████████████████████▍| 78/79 [04:44<00:03,  3.56s/it]\u001b[A\n",
      "100%|███████████████████████████████████████████| 79/79 [04:45<00:00,  3.61s/it]\u001b[A"
     ]
    },
    {
     "name": "stdout",
     "output_type": "stream",
     "text": [
      "Оценка за это задание составит 9.04 баллов\n"
     ]
    },
    {
     "name": "stderr",
     "output_type": "stream",
     "text": [
      "\n"
     ]
    }
   ],
   "source": [
    "z = YourModule.load_from_checkpoint('./models/task1/model=0-epoch=11-val_accuracy=0.39.ckpt', \n",
    "                                    model=model, \n",
    "                                    learning_rate=0.001)\n",
    "\n",
    "accuracy_1 = evaluate_task(z.model, val_dataloader, device)\n",
    "print(f\"Оценка за это задание составит {np.clip(10 * accuracy_1 / 0.44, 0, 10):.2f} баллов\")"
   ]
  },
  {
   "cell_type": "markdown",
   "metadata": {
    "id": "cZqSdlQQKukS"
   },
   "source": [
    "## Задание 2\n",
    "\n",
    "5 баллов\n",
    "Добейтесь accuracy на валидации не менее 0.84. В этом задании делать ресайз и использовать претрейн можно.\n",
    "\n",
    "Для того чтобы выбить скор (считается ниже) на 2.5/5 балла (то есть половину за задание) достаточно соблюдать пару простых жизненных правил:\n",
    "1. Аугментация (без нее сложно очень будет)\n",
    "2. Оптимайзеры можно (и нужно) использовать друг с другом. Однако когда что-то проверяете, то не меняйте несколько параметров сразу - собьете логику экспериментов\n",
    "3. Не используйте полносвязные модели или самые первые сверточные, используйте более современные архитектуры (что на лекциях встречались или можете пойти дальше).\n",
    "4. Попробуйте сначала посмотреть качество исходной модели без дообучения, сохраните как baseline. Отсюда поймете какие слои нужно дообучать.\n",
    "5. Посмотреть все ноутбуки прошедших семинаров и слепить из них что-то общее. Семинарских тетрадок хватит сверх"
   ]
  },
  {
   "cell_type": "markdown",
   "metadata": {},
   "source": [
    "Предобработаем данные"
   ]
  },
  {
   "cell_type": "code",
   "execution_count": 18,
   "metadata": {},
   "outputs": [],
   "source": [
    "# YOU CAN DEFINE AUGMENTATIONS HERE\n",
    "train_transform = transforms.Compose(\n",
    "    [\n",
    "        transforms.Resize((224, 224)),\n",
    "        transforms.ToTensor(),\n",
    "        transforms.Normalize(means, stds),\n",
    "    ]\n",
    ")\n",
    "\n",
    "val_transform = transforms.Compose(\n",
    "    [\n",
    "        torchvision.transforms.ToTensor(),\n",
    "        transforms.Normalize(means, stds),\n",
    "    ]\n",
    ")\n",
    "\n",
    "train_dataset = ImageFolder('./dataset/dataset/train', transform=train_transform)\n",
    "val_dataset = ImageFolder('./dataset/dataset/val', transform=val_transform)\n",
    "# REPLACE ./dataset/dataset WITH THE FOLDER WHERE YOU DOWNLOADED AND UNZIPPED THE DATASET\n",
    "\n",
    "train_dataloader = DataLoader(train_dataset, batch_size=128, shuffle=True, num_workers=7, persistent_workers=True) # YOUR CODE HERE\n",
    "val_dataloader = DataLoader(val_dataset, batch_size=128, shuffle=False, num_workers=7, persistent_workers=True) # YOUR CODE HERE"
   ]
  },
  {
   "cell_type": "markdown",
   "metadata": {},
   "source": [
    "Получим и сохраним признаки из предобученной модели для обучающей выборки"
   ]
  },
  {
   "cell_type": "code",
   "execution_count": 19,
   "metadata": {},
   "outputs": [
    {
     "name": "stderr",
     "output_type": "stream",
     "text": [
      "\n",
      "  0%|                                                   | 0/782 [00:00<?, ?it/s]\u001b[ATraceback (most recent call last):\n",
      "  File \"<string>\", line 1, in <module>\n",
      "  File \"/Users/alex/anaconda3/lib/python3.11/multiprocessing/spawn.py\", line 120, in spawn_main\n",
      "  0%|                                                   | 0/782 [00:03<?, ?it/s]    exitcode = _main(fd, parent_sentinel)\n",
      "               ^^^^^^^^^^^^^^^^^^^^^^^^^^\n",
      "  File \"/Users/alex/anaconda3/lib/python3.11/multiprocessing/spawn.py\", line 130, in _main\n",
      "    self = reduction.pickle.load(from_parent)\n",
      "           ^^^^^^^^^^^^^^^^^^^^^^^^^^^^^^^^^^\n",
      "  File \"/Users/alex/anaconda3/lib/python3.11/site-packages/torchvision/__init__.py\", line 6, in <module>\n",
      "    from torchvision import _meta_registrations, datasets, io, models, ops, transforms, utils\n",
      "  File \"/Users/alex/anaconda3/lib/python3.11/site-packages/torchvision/models/__init__.py\", line 2, in <module>\n",
      "    from .convnext import *\n",
      "\n",
      "  File \"/Users/alex/anaconda3/lib/python3.11/site-packages/torchvision/models/convnext.py\", line 8, in <module>\n",
      "    from ..ops.misc import Conv2dNormActivation, Permute\n",
      "  File \"/Users/alex/anaconda3/lib/python3.11/site-packages/torchvision/ops/__init__.py\", line 23, in <module>\n",
      "    from .poolers import MultiScaleRoIAlign\n",
      "  File \"/Users/alex/anaconda3/lib/python3.11/site-packages/torchvision/ops/poolers.py\", line 10, in <module>\n",
      "    from .roi_align import roi_align\n",
      "  File \"/Users/alex/anaconda3/lib/python3.11/site-packages/torchvision/ops/roi_align.py\", line 4, in <module>\n",
      "    import torch._dynamo\n",
      "  File \"/Users/alex/anaconda3/lib/python3.11/site-packages/torch/_dynamo/__init__.py\", line 111, in <module>\n",
      "    @disallow_in_graph\n",
      "     ^^^^^^^^^^^^^^^^^\n",
      "  File \"/Users/alex/anaconda3/lib/python3.11/site-packages/torch/_dynamo/__init__.py\", line 106, in disallow_in_graph\n",
      "    allowed_functions._allowed_function_ids.remove(id(fn))\n",
      "  File \"/Users/alex/anaconda3/lib/python3.11/site-packages/torch/_dynamo/allowed_functions.py\", line 73, in remove\n",
      "    if idx in self():\n",
      "              ^^^^^^\n",
      "  File \"/Users/alex/anaconda3/lib/python3.11/site-packages/torch/_dynamo/allowed_functions.py\", line 55, in __call__\n",
      "    value = lazy_initializer()\n",
      "            ^^^^^^^^^^^^^^^^^^\n",
      "  File \"/Users/alex/anaconda3/lib/python3.11/site-packages/torch/_dynamo/allowed_functions.py\", line 185, in _allowed_function_ids\n",
      "    _find_torch_objects(torch)\n",
      "  File \"/Users/alex/anaconda3/lib/python3.11/site-packages/torch/_dynamo/allowed_functions.py\", line 179, in _find_torch_objects\n",
      "    _find_torch_objects(obj)\n",
      "  File \"/Users/alex/anaconda3/lib/python3.11/site-packages/torch/_dynamo/allowed_functions.py\", line 179, in _find_torch_objects\n",
      "    _find_torch_objects(obj)\n",
      "  File \"/Users/alex/anaconda3/lib/python3.11/site-packages/torch/_dynamo/allowed_functions.py\", line 180, in _find_torch_objects\n",
      "    elif _is_allowed_module_prefix(obj):\n",
      "         ^^^^^^^^^^^^^^^^^^^^^^^^^^^^^^\n",
      "  File \"/Users/alex/anaconda3/lib/python3.11/site-packages/torch/_dynamo/allowed_functions.py\", line 153, in _is_allowed_module_prefix\n",
      "    allowed_modules_dot = tuple([x + \".\" for x in allowed_modules])\n",
      "                                ^^^^^^^^^^^^^^^^^^^^^^^^^^^^^^^^^^\n",
      "  File \"/Users/alex/anaconda3/lib/python3.11/site-packages/torch/_dynamo/allowed_functions.py\", line 153, in <listcomp>\n",
      "    allowed_modules_dot = tuple([x + \".\" for x in allowed_modules])\n",
      "                                ^^^^^^^^^^^^^^^^^^^^^^^^^^^^^^^^^^\n",
      "KeyboardInterrupt\n",
      "\n",
      "KeyboardInterrupt\n",
      "\n"
     ]
    }
   ],
   "source": [
    "feature_extractor = nn.Sequential(*list(efficientnet_v2_s(weights='DEFAULT').children())[:-1])\n",
    "\n",
    "with torch.no_grad():\n",
    "    for i, batch in enumerate(tqdm(train_dataloader)):\n",
    "        images = batch[0]\n",
    "        targets = batch[1].unsqueeze(1)\n",
    "            \n",
    "        features = feature_extractor(images).squeeze((2, 3))\n",
    "        \n",
    "        new_batch = torch.cat(tensors=(features, targets), dim=1).float()\n",
    "        \n",
    "        if i == 0:\n",
    "            data = new_batch\n",
    "        else:\n",
    "            data = np.vstack((data, new_batch))\n",
    "        "
   ]
  },
  {
   "cell_type": "code",
   "execution_count": 20,
   "metadata": {},
   "outputs": [],
   "source": [
    "# file = open('./embedings_traindata_res.npy', 'wb')\n",
    "\n",
    "# np.save(file, data)\n",
    "\n",
    "# file.close()"
   ]
  },
  {
   "cell_type": "markdown",
   "metadata": {},
   "source": [
    "Загрузим сохраненные эмбединги"
   ]
  },
  {
   "cell_type": "code",
   "execution_count": 15,
   "metadata": {},
   "outputs": [],
   "source": [
    "file = open('./embedings_traindata_res.npy', 'rb')\n",
    "\n",
    "train_data = np.load(file)\n",
    "\n",
    "file.close()"
   ]
  },
  {
   "cell_type": "markdown",
   "metadata": {},
   "source": [
    "Аналогично все для валидационной выборки"
   ]
  },
  {
   "cell_type": "code",
   "execution_count": 138,
   "metadata": {},
   "outputs": [
    {
     "name": "stderr",
     "output_type": "stream",
     "text": [
      "100%|███████████████████████████████████████████| 79/79 [05:32<00:00,  4.21s/it]\n"
     ]
    }
   ],
   "source": [
    "with torch.no_grad():\n",
    "    for i, batch in enumerate(tqdm(val_dataloader)):\n",
    "        images = batch[0]\n",
    "        targets = batch[1].unsqueeze(1)\n",
    "            \n",
    "        features = feature_extractor(images).squeeze((2, 3))\n",
    "        \n",
    "        new_batch = torch.cat(tensors=(features, targets), dim=1).float()\n",
    "        \n",
    "        if i == 0:\n",
    "            val_data = new_batch\n",
    "        else:\n",
    "            val_data = np.vstack((val_data, new_batch))"
   ]
  },
  {
   "cell_type": "code",
   "execution_count": 22,
   "metadata": {},
   "outputs": [],
   "source": [
    "# file = open('./embedings_valdata.npy', 'wb')\n",
    "\n",
    "# np.save(file, val_data)\n",
    "\n",
    "# file.close()"
   ]
  },
  {
   "cell_type": "code",
   "execution_count": 16,
   "metadata": {},
   "outputs": [],
   "source": [
    "file = open('./embedings_valdata_res.npy', 'rb')\n",
    "\n",
    "val_data = np.load(file)\n",
    "\n",
    "file.close()"
   ]
  },
  {
   "cell_type": "code",
   "execution_count": 55,
   "metadata": {},
   "outputs": [],
   "source": [
    "X_train = train_data[:, :-1]\n",
    "y_train = train_data[:, -1]\n",
    "\n",
    "X_val = val_data[:, :-1]\n",
    "y_val = val_data[:, -1]"
   ]
  },
  {
   "cell_type": "code",
   "execution_count": 56,
   "metadata": {},
   "outputs": [],
   "source": [
    "X_train = torch.from_numpy(X_train).type(torch.float32)\n",
    "X_val = torch.from_numpy(X_val).type(torch.float32)\n",
    "\n",
    "y_train = torch.from_numpy(y_train).type(torch.float32)\n",
    "y_val = torch.from_numpy(y_val).type(torch.float32)"
   ]
  },
  {
   "cell_type": "markdown",
   "metadata": {},
   "source": [
    "### Класс датасета"
   ]
  },
  {
   "cell_type": "code",
   "execution_count": 57,
   "metadata": {},
   "outputs": [],
   "source": [
    "class Dataset(torch.utils.data.Dataset):\n",
    "    \"\"\"\n",
    "    Makes dataset from data\n",
    "    \"\"\"\n",
    "\n",
    "    def __init__(self, x, y):\n",
    "        self.x = x # objects\n",
    "        self.y = y # targets\n",
    "\n",
    "    def __len__(self):\n",
    "        return len(self.x) # dataset len\n",
    "\n",
    "    def __getitem__(self, idx): # get object with it target from dataset\n",
    "        return self.x[idx], self.y[idx]"
   ]
  },
  {
   "cell_type": "code",
   "execution_count": 58,
   "metadata": {},
   "outputs": [],
   "source": [
    "train_set = Dataset(X_train, y_train)\n",
    "train_loader = torch.utils.data.DataLoader(train_set, batch_size=128, shuffle=True)\n",
    "\n",
    "val_set = Dataset(X_val, y_val)\n",
    "val_loader = torch.utils.data.DataLoader(val_set, batch_size=128, shuffle=False)"
   ]
  },
  {
   "cell_type": "code",
   "execution_count": 48,
   "metadata": {},
   "outputs": [
    {
     "name": "stdout",
     "output_type": "stream",
     "text": [
      "[tensor([[-0.1557, -0.0904, -0.0661,  ..., -0.1795, -0.1132,  0.0189],\n",
      "        [ 0.2779,  0.0055, -0.1325,  ..., -0.0637, -0.1210,  0.5613],\n",
      "        [-0.1485, -0.1735, -0.0889,  ..., -0.1647, -0.1153, -0.1127],\n",
      "        ...,\n",
      "        [-0.1618, -0.1088, -0.1013,  ..., -0.0336, -0.0198, -0.1172],\n",
      "        [ 0.1802,  0.0400,  0.0390,  ...,  0.0276, -0.0826, -0.1104],\n",
      "        [-0.1455, -0.1149, -0.1697,  ..., -0.1911, -0.1498,  0.3002]]), tensor([[169.],\n",
      "        [125.],\n",
      "        [ 48.],\n",
      "        [ 99.],\n",
      "        [157.],\n",
      "        [142.],\n",
      "        [  8.],\n",
      "        [123.],\n",
      "        [198.],\n",
      "        [ 17.],\n",
      "        [174.],\n",
      "        [ 67.],\n",
      "        [ 83.],\n",
      "        [133.],\n",
      "        [174.],\n",
      "        [ 45.],\n",
      "        [179.],\n",
      "        [139.],\n",
      "        [198.],\n",
      "        [  8.],\n",
      "        [193.],\n",
      "        [ 87.],\n",
      "        [ 10.],\n",
      "        [190.],\n",
      "        [ 20.],\n",
      "        [ 25.],\n",
      "        [ 28.],\n",
      "        [169.],\n",
      "        [  0.],\n",
      "        [ 55.],\n",
      "        [ 15.],\n",
      "        [ 46.],\n",
      "        [  4.],\n",
      "        [104.],\n",
      "        [169.],\n",
      "        [108.],\n",
      "        [126.],\n",
      "        [ 10.],\n",
      "        [133.],\n",
      "        [ 97.],\n",
      "        [ 75.],\n",
      "        [ 65.],\n",
      "        [166.],\n",
      "        [ 52.],\n",
      "        [154.],\n",
      "        [ 51.],\n",
      "        [171.],\n",
      "        [166.],\n",
      "        [175.],\n",
      "        [ 91.],\n",
      "        [115.],\n",
      "        [ 14.],\n",
      "        [191.],\n",
      "        [179.],\n",
      "        [ 74.],\n",
      "        [159.],\n",
      "        [189.],\n",
      "        [ 65.],\n",
      "        [  5.],\n",
      "        [182.],\n",
      "        [ 20.],\n",
      "        [172.],\n",
      "        [ 11.],\n",
      "        [ 18.],\n",
      "        [171.],\n",
      "        [109.],\n",
      "        [136.],\n",
      "        [ 56.],\n",
      "        [ 58.],\n",
      "        [183.],\n",
      "        [104.],\n",
      "        [179.],\n",
      "        [ 28.],\n",
      "        [ 28.],\n",
      "        [ 70.],\n",
      "        [ 83.],\n",
      "        [ 64.],\n",
      "        [114.],\n",
      "        [ 73.],\n",
      "        [130.],\n",
      "        [ 39.],\n",
      "        [154.],\n",
      "        [141.],\n",
      "        [  9.],\n",
      "        [120.],\n",
      "        [114.],\n",
      "        [171.],\n",
      "        [ 48.],\n",
      "        [ 39.],\n",
      "        [171.],\n",
      "        [ 62.],\n",
      "        [ 30.],\n",
      "        [ 81.],\n",
      "        [ 91.],\n",
      "        [ 87.],\n",
      "        [ 19.],\n",
      "        [  7.],\n",
      "        [ 49.],\n",
      "        [113.],\n",
      "        [125.],\n",
      "        [ 35.],\n",
      "        [191.],\n",
      "        [158.],\n",
      "        [  8.],\n",
      "        [129.],\n",
      "        [177.],\n",
      "        [153.],\n",
      "        [166.],\n",
      "        [115.],\n",
      "        [113.],\n",
      "        [107.],\n",
      "        [ 98.],\n",
      "        [108.],\n",
      "        [164.],\n",
      "        [ 21.],\n",
      "        [170.],\n",
      "        [123.],\n",
      "        [ 19.],\n",
      "        [ 37.],\n",
      "        [ 76.],\n",
      "        [182.],\n",
      "        [ 24.],\n",
      "        [123.],\n",
      "        [  1.],\n",
      "        [ 69.],\n",
      "        [ 67.],\n",
      "        [181.],\n",
      "        [ 48.]])]\n"
     ]
    }
   ],
   "source": [
    "for batch in train_loader:\n",
    "    print(batch)\n",
    "    break"
   ]
  },
  {
   "cell_type": "markdown",
   "metadata": {
    "id": "Flwqk0YjxPLE"
   },
   "source": [
    "### Тренировочный класс lightning"
   ]
  },
  {
   "cell_type": "code",
   "execution_count": 59,
   "metadata": {
    "id": "UnKHluO6xID4"
   },
   "outputs": [],
   "source": [
    "class YourModule(pl.LightningModule):\n",
    "    def __init__(self, model, learning_rate):\n",
    "        super().__init__()\n",
    "        self.model = model\n",
    "        self.learning_rate = learning_rate\n",
    "        \n",
    "        self.loss_func = torch.nn.CrossEntropyLoss()\n",
    "        self.accuracy = Accuracy(task=\"multiclass\", num_classes=200, top_k=1)\n",
    "        \n",
    "    def forward(self, x):\n",
    "        \n",
    "        return self.model(x)\n",
    "\n",
    "    def configure_optimizers(self):\n",
    "        optimizer = torch.optim.Adam(self.parameters(), lr=self.learning_rate)\n",
    "        scheduler = ReduceLROnPlateau(optimizer, patience=2, threshold=0.1)\n",
    "        \n",
    "        return {'optimizer': optimizer, 'lr_scheduler': {'scheduler': scheduler, 'monitor': 'val_accuracy'}}\n",
    "\n",
    "    def training_step(self, train_batch, batch_idx):\n",
    "        images, target = train_batch\n",
    "        \n",
    "        preds = self.forward(images)\n",
    "        \n",
    "        train_loss = self.loss_func(preds, target)\n",
    "        train_accuracy = self.accuracy(preds, target)\n",
    "        \n",
    "        self.log('train_loss', train_loss, prog_bar=True, on_step=False, on_epoch=True)\n",
    "        self.log('train_accuracy', train_accuracy, prog_bar=True, on_step=False, on_epoch=True)\n",
    "        \n",
    "        return train_loss\n",
    "\n",
    "    def validation_step(self, val_batch, batch_idx):\n",
    "        images, target = val_batch\n",
    "        preds = self.forward(images)\n",
    "        \n",
    "        val_loss = self.loss_func(preds, target)\n",
    "        val_accuracy = self.accuracy(preds, target)\n",
    "        \n",
    "        self.log('val_loss', val_loss, prog_bar=True)\n",
    "        self.log('val_accuracy', val_accuracy, prog_bar=True)"
   ]
  },
  {
   "cell_type": "code",
   "execution_count": 60,
   "metadata": {
    "id": "lQAjkvkVyhEg"
   },
   "outputs": [],
   "source": [
    "wandb_logger = WandbLogger(project='HW2 task2', log_model='all') # какие возможности дает с pytorch_lightning https://docs.wandb.ai/guides/integrations/lightning\n",
    "\n",
    "pretrained_model = nn.Sequential(nn.Linear(1280, 512), \n",
    "                                 nn.ReLU(), \n",
    "                                 nn.Dropout(0.4), \n",
    "                                 nn.Linear(512, 200)).to(device)\n",
    "module = YourModule(pretrained_model, 0.001)"
   ]
  },
  {
   "cell_type": "code",
   "execution_count": 61,
   "metadata": {
    "id": "T4wJgB1YyhG0"
   },
   "outputs": [
    {
     "name": "stderr",
     "output_type": "stream",
     "text": [
      "GPU available: True (mps), used: True\n",
      "TPU available: False, using: 0 TPU cores\n",
      "IPU available: False, using: 0 IPUs\n",
      "HPU available: False, using: 0 HPUs\n"
     ]
    }
   ],
   "source": [
    "checkpoint_callback = ModelCheckpoint(\n",
    "    dirpath='./models/task2',\n",
    "    filename='{model}-{epoch}-{val_accuracy:.2f}',\n",
    "    monitor='val_accuracy',\n",
    "    save_top_k=1,\n",
    "    mode='max',\n",
    "    every_n_epochs=1\n",
    ")\n",
    "\n",
    "lr_monitor = LearningRateMonitor(logging_interval='epoch')\n",
    "\n",
    "# early_stopping = EarlyStopping(monitor='val_loss', mode='max', stopping_threshold=0.84)\n",
    "\n",
    "trainer = pl.Trainer(logger=wandb_logger, \n",
    "                     max_epochs=25, \n",
    "                     callbacks=[checkpoint_callback, lr_monitor])  # YOUR CODE HERE\n"
   ]
  },
  {
   "cell_type": "code",
   "execution_count": null,
   "metadata": {
    "scrolled": false
   },
   "outputs": [
    {
     "name": "stderr",
     "output_type": "stream",
     "text": [
      "/Users/alex/anaconda3/lib/python3.11/site-packages/pytorch_lightning/loggers/wandb.py:389: There is a wandb run already in progress and newly created instances of `WandbLogger` will reuse this run. If this is not desired, call `wandb.finish()` before instantiating `WandbLogger`.\n",
      "\n",
      "  | Name      | Type               | Params\n",
      "-------------------------------------------------\n",
      "0 | model     | Sequential         | 758 K \n",
      "1 | loss_func | CrossEntropyLoss   | 0     \n",
      "2 | accuracy  | MulticlassAccuracy | 0     \n",
      "-------------------------------------------------\n",
      "758 K     Trainable params\n",
      "0         Non-trainable params\n",
      "758 K     Total params\n",
      "3.034     Total estimated model params size (MB)\n"
     ]
    },
    {
     "data": {
      "application/vnd.jupyter.widget-view+json": {
       "model_id": "a5b51dda74b04470b67e4b1c7266585a",
       "version_major": 2,
       "version_minor": 0
      },
      "text/plain": [
       "Sanity Checking: |                                        | 0/? [00:00<?, ?it/s]"
      ]
     },
     "metadata": {},
     "output_type": "display_data"
    }
   ],
   "source": [
    "trainer.fit(module, train_loader, val_loader)  # YOUR CODE HERE\n",
    "wandb.finish()"
   ]
  },
  {
   "cell_type": "markdown",
   "metadata": {
    "id": "u5D2bwOKSHVp"
   },
   "source": [
    "### Валидация результатов задания"
   ]
  },
  {
   "cell_type": "code",
   "execution_count": null,
   "metadata": {},
   "outputs": [],
   "source": [
    "val_dataloader = DataLoader(val_dataset, batch_size=128, shuffle=False, num_workers=7, persistent_workers=True) # YOUR CODE HERE"
   ]
  },
  {
   "cell_type": "code",
   "execution_count": null,
   "metadata": {
    "id": "PEdwJE5uOrIM"
   },
   "outputs": [],
   "source": [
    "z_pretrained = YourModule.load_from_checkpoint('./models/task2/model=0-epoch=9-val_accuracy=0.64.ckpt', \n",
    "                                    model=pretrained_model, \n",
    "                                    learning_rate=0.001)\n",
    "\n",
    "accuracy_2 = evaluate_task(z_pretrained.model, val_dataloader, device)\n",
    "print(f\"Оценка за это задание составит {np.clip(10 * (accuracy_2 - 0.5) / 0.34, 0, 10):.2f} баллов\")"
   ]
  },
  {
   "cell_type": "code",
   "execution_count": 24,
   "metadata": {},
   "outputs": [
    {
     "data": {
      "text/plain": [
       "tensor(0.0346)"
      ]
     },
     "execution_count": 24,
     "metadata": {},
     "output_type": "execute_result"
    }
   ],
   "source": [
    "accuracy_2"
   ]
  },
  {
   "cell_type": "markdown",
   "metadata": {
    "id": "pT8vfPSolRVb"
   },
   "source": [
    "# Отчёт об экспериментах\n",
    "\n",
    "текст писать тут (или ссылочку на wandb/любой трекер экспреиментов) для каждого задания, то есть не обязательно именно тут рисовать графики, если вы используете готовые трекеры/мониторинги ваших моделей."
   ]
  },
  {
   "cell_type": "markdown",
   "metadata": {
    "id": "YkGZ3kuULB55"
   },
   "source": [
    "Я перебирал разные шедулеры норм редус он плато заработал"
   ]
  },
  {
   "cell_type": "markdown",
   "metadata": {},
   "source": [
    "Хорошо помог Адам, сгд с моментумом слабо учили"
   ]
  },
  {
   "cell_type": "markdown",
   "metadata": {},
   "source": [
    "Лернинг рейт файндер всё руинил, поэтому я его убрал"
   ]
  },
  {
   "cell_type": "markdown",
   "metadata": {},
   "source": [
    "Своя архитектура не пахала, было решено сделать реснет"
   ]
  },
  {
   "cell_type": "markdown",
   "metadata": {},
   "source": [
    "Реснет18 и реснет34 слабо работали, а реснет 50 норм заработал"
   ]
  },
  {
   "cell_type": "markdown",
   "metadata": {},
   "source": [
    "В вандб аккураси больше чем аккураси из функции валидации и это не очень круто"
   ]
  },
  {
   "cell_type": "markdown",
   "metadata": {},
   "source": [
    "В результате ИАДовских шарад в чате, было выяснено что ефишентнет помогает выбивать аккураси во втором задании"
   ]
  },
  {
   "cell_type": "markdown",
   "metadata": {},
   "source": [
    "Подбирать ещё более лучшую модель/параметры не буду, так как для экспериментов по ощущениям нужен корпус из нвидия а100"
   ]
  }
 ],
 "metadata": {
  "accelerator": "GPU",
  "colab": {
   "provenance": []
  },
  "kernelspec": {
   "display_name": "Python 3 (ipykernel)",
   "language": "python",
   "name": "python3"
  },
  "language_info": {
   "codemirror_mode": {
    "name": "ipython",
    "version": 3
   },
   "file_extension": ".py",
   "mimetype": "text/x-python",
   "name": "python",
   "nbconvert_exporter": "python",
   "pygments_lexer": "ipython3",
   "version": "3.11.4"
  },
  "max_cell_id": 35,
  "widgets": {
   "application/vnd.jupyter.widget-state+json": {
    "0fec5351d955444d968cbccf5083adca": {
     "model_module": "@jupyter-widgets/controls",
     "model_module_version": "1.5.0",
     "model_name": "DescriptionStyleModel",
     "state": {
      "_model_module": "@jupyter-widgets/controls",
      "_model_module_version": "1.5.0",
      "_model_name": "DescriptionStyleModel",
      "_view_count": null,
      "_view_module": "@jupyter-widgets/base",
      "_view_module_version": "1.2.0",
      "_view_name": "StyleView",
      "description_width": ""
     }
    },
    "14d120344cc04953aef373f73707b6a5": {
     "model_module": "@jupyter-widgets/base",
     "model_module_version": "1.2.0",
     "model_name": "LayoutModel",
     "state": {
      "_model_module": "@jupyter-widgets/base",
      "_model_module_version": "1.2.0",
      "_model_name": "LayoutModel",
      "_view_count": null,
      "_view_module": "@jupyter-widgets/base",
      "_view_module_version": "1.2.0",
      "_view_name": "LayoutView",
      "align_content": null,
      "align_items": null,
      "align_self": null,
      "border": null,
      "bottom": null,
      "display": null,
      "flex": null,
      "flex_flow": null,
      "grid_area": null,
      "grid_auto_columns": null,
      "grid_auto_flow": null,
      "grid_auto_rows": null,
      "grid_column": null,
      "grid_gap": null,
      "grid_row": null,
      "grid_template_areas": null,
      "grid_template_columns": null,
      "grid_template_rows": null,
      "height": null,
      "justify_content": null,
      "justify_items": null,
      "left": null,
      "margin": null,
      "max_height": null,
      "max_width": null,
      "min_height": null,
      "min_width": null,
      "object_fit": null,
      "object_position": null,
      "order": null,
      "overflow": null,
      "overflow_x": null,
      "overflow_y": null,
      "padding": null,
      "right": null,
      "top": null,
      "visibility": null,
      "width": null
     }
    },
    "31c8582181004ba78e6dfd6e25fd1535": {
     "model_module": "@jupyter-widgets/controls",
     "model_module_version": "1.5.0",
     "model_name": "FloatProgressModel",
     "state": {
      "_dom_classes": [],
      "_model_module": "@jupyter-widgets/controls",
      "_model_module_version": "1.5.0",
      "_model_name": "FloatProgressModel",
      "_view_count": null,
      "_view_module": "@jupyter-widgets/controls",
      "_view_module_version": "1.5.0",
      "_view_name": "ProgressView",
      "bar_style": "",
      "description": "",
      "description_tooltip": null,
      "layout": "IPY_MODEL_8ab979fdedef480691d41c3f29e2ceb9",
      "max": 1000,
      "min": 0,
      "orientation": "horizontal",
      "style": "IPY_MODEL_360aaae647224cb1a6d47a56e23bb635",
      "value": 14
     }
    },
    "360aaae647224cb1a6d47a56e23bb635": {
     "model_module": "@jupyter-widgets/controls",
     "model_module_version": "1.5.0",
     "model_name": "ProgressStyleModel",
     "state": {
      "_model_module": "@jupyter-widgets/controls",
      "_model_module_version": "1.5.0",
      "_model_name": "ProgressStyleModel",
      "_view_count": null,
      "_view_module": "@jupyter-widgets/base",
      "_view_module_version": "1.2.0",
      "_view_name": "StyleView",
      "bar_color": null,
      "description_width": ""
     }
    },
    "6dcbbca0a8ac4d3e90e2cbd7753dfb7f": {
     "model_module": "@jupyter-widgets/controls",
     "model_module_version": "1.5.0",
     "model_name": "HBoxModel",
     "state": {
      "_dom_classes": [],
      "_model_module": "@jupyter-widgets/controls",
      "_model_module_version": "1.5.0",
      "_model_name": "HBoxModel",
      "_view_count": null,
      "_view_module": "@jupyter-widgets/controls",
      "_view_module_version": "1.5.0",
      "_view_name": "HBoxView",
      "box_style": "",
      "children": [
       "IPY_MODEL_cbbba6e861364a75b6ec4521e8d8d3d6",
       "IPY_MODEL_31c8582181004ba78e6dfd6e25fd1535",
       "IPY_MODEL_fdafc759cd894f9fb114989cf0898470"
      ],
      "layout": "IPY_MODEL_14d120344cc04953aef373f73707b6a5"
     }
    },
    "7a048d01f8ae448482175e1d350fb2e9": {
     "model_module": "@jupyter-widgets/base",
     "model_module_version": "1.2.0",
     "model_name": "LayoutModel",
     "state": {
      "_model_module": "@jupyter-widgets/base",
      "_model_module_version": "1.2.0",
      "_model_name": "LayoutModel",
      "_view_count": null,
      "_view_module": "@jupyter-widgets/base",
      "_view_module_version": "1.2.0",
      "_view_name": "LayoutView",
      "align_content": null,
      "align_items": null,
      "align_self": null,
      "border": null,
      "bottom": null,
      "display": null,
      "flex": null,
      "flex_flow": null,
      "grid_area": null,
      "grid_auto_columns": null,
      "grid_auto_flow": null,
      "grid_auto_rows": null,
      "grid_column": null,
      "grid_gap": null,
      "grid_row": null,
      "grid_template_areas": null,
      "grid_template_columns": null,
      "grid_template_rows": null,
      "height": null,
      "justify_content": null,
      "justify_items": null,
      "left": null,
      "margin": null,
      "max_height": null,
      "max_width": null,
      "min_height": null,
      "min_width": null,
      "object_fit": null,
      "object_position": null,
      "order": null,
      "overflow": null,
      "overflow_x": null,
      "overflow_y": null,
      "padding": null,
      "right": null,
      "top": null,
      "visibility": null,
      "width": null
     }
    },
    "82d05a5ad8f04e9887aa5f93f9825640": {
     "model_module": "@jupyter-widgets/base",
     "model_module_version": "1.2.0",
     "model_name": "LayoutModel",
     "state": {
      "_model_module": "@jupyter-widgets/base",
      "_model_module_version": "1.2.0",
      "_model_name": "LayoutModel",
      "_view_count": null,
      "_view_module": "@jupyter-widgets/base",
      "_view_module_version": "1.2.0",
      "_view_name": "LayoutView",
      "align_content": null,
      "align_items": null,
      "align_self": null,
      "border": null,
      "bottom": null,
      "display": null,
      "flex": null,
      "flex_flow": null,
      "grid_area": null,
      "grid_auto_columns": null,
      "grid_auto_flow": null,
      "grid_auto_rows": null,
      "grid_column": null,
      "grid_gap": null,
      "grid_row": null,
      "grid_template_areas": null,
      "grid_template_columns": null,
      "grid_template_rows": null,
      "height": null,
      "justify_content": null,
      "justify_items": null,
      "left": null,
      "margin": null,
      "max_height": null,
      "max_width": null,
      "min_height": null,
      "min_width": null,
      "object_fit": null,
      "object_position": null,
      "order": null,
      "overflow": null,
      "overflow_x": null,
      "overflow_y": null,
      "padding": null,
      "right": null,
      "top": null,
      "visibility": null,
      "width": null
     }
    },
    "8ab979fdedef480691d41c3f29e2ceb9": {
     "model_module": "@jupyter-widgets/base",
     "model_module_version": "1.2.0",
     "model_name": "LayoutModel",
     "state": {
      "_model_module": "@jupyter-widgets/base",
      "_model_module_version": "1.2.0",
      "_model_name": "LayoutModel",
      "_view_count": null,
      "_view_module": "@jupyter-widgets/base",
      "_view_module_version": "1.2.0",
      "_view_name": "LayoutView",
      "align_content": null,
      "align_items": null,
      "align_self": null,
      "border": null,
      "bottom": null,
      "display": null,
      "flex": null,
      "flex_flow": null,
      "grid_area": null,
      "grid_auto_columns": null,
      "grid_auto_flow": null,
      "grid_auto_rows": null,
      "grid_column": null,
      "grid_gap": null,
      "grid_row": null,
      "grid_template_areas": null,
      "grid_template_columns": null,
      "grid_template_rows": null,
      "height": null,
      "justify_content": null,
      "justify_items": null,
      "left": null,
      "margin": null,
      "max_height": null,
      "max_width": null,
      "min_height": null,
      "min_width": null,
      "object_fit": null,
      "object_position": null,
      "order": null,
      "overflow": null,
      "overflow_x": null,
      "overflow_y": null,
      "padding": null,
      "right": null,
      "top": null,
      "visibility": null,
      "width": null
     }
    },
    "8f9a7c6bcab74c5aa58485669a3de6c7": {
     "model_module": "@jupyter-widgets/controls",
     "model_module_version": "1.5.0",
     "model_name": "DescriptionStyleModel",
     "state": {
      "_model_module": "@jupyter-widgets/controls",
      "_model_module_version": "1.5.0",
      "_model_name": "DescriptionStyleModel",
      "_view_count": null,
      "_view_module": "@jupyter-widgets/base",
      "_view_module_version": "1.2.0",
      "_view_name": "StyleView",
      "description_width": ""
     }
    },
    "cbbba6e861364a75b6ec4521e8d8d3d6": {
     "model_module": "@jupyter-widgets/controls",
     "model_module_version": "1.5.0",
     "model_name": "HTMLModel",
     "state": {
      "_dom_classes": [],
      "_model_module": "@jupyter-widgets/controls",
      "_model_module_version": "1.5.0",
      "_model_name": "HTMLModel",
      "_view_count": null,
      "_view_module": "@jupyter-widgets/controls",
      "_view_module_version": "1.5.0",
      "_view_name": "HTMLView",
      "description": "",
      "description_tooltip": null,
      "layout": "IPY_MODEL_7a048d01f8ae448482175e1d350fb2e9",
      "placeholder": "​",
      "style": "IPY_MODEL_8f9a7c6bcab74c5aa58485669a3de6c7",
      "value": "Finding best initial lr:   1%"
     }
    },
    "fdafc759cd894f9fb114989cf0898470": {
     "model_module": "@jupyter-widgets/controls",
     "model_module_version": "1.5.0",
     "model_name": "HTMLModel",
     "state": {
      "_dom_classes": [],
      "_model_module": "@jupyter-widgets/controls",
      "_model_module_version": "1.5.0",
      "_model_name": "HTMLModel",
      "_view_count": null,
      "_view_module": "@jupyter-widgets/controls",
      "_view_module_version": "1.5.0",
      "_view_name": "HTMLView",
      "description": "",
      "description_tooltip": null,
      "layout": "IPY_MODEL_82d05a5ad8f04e9887aa5f93f9825640",
      "placeholder": "​",
      "style": "IPY_MODEL_0fec5351d955444d968cbccf5083adca",
      "value": " 14/1000 [00:04&lt;06:06,  2.69it/s]"
     }
    }
   }
  }
 },
 "nbformat": 4,
 "nbformat_minor": 1
}
